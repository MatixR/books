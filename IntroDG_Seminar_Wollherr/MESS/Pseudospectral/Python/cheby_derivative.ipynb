{
 "metadata": {
  "name": "",
  "signature": "sha256:bb7e27cab7218b4a034a78a1bffe759265cd13f6dba4b57bbe6f6173f9399a36"
 },
 "nbformat": 3,
 "nbformat_minor": 0,
 "worksheets": [
  {
   "cells": [
    {
     "cell_type": "markdown",
     "metadata": {},
     "source": [
      "<p style=\"width:35%;float:right;padding-left:50px\">\n",
      "<img src=http://www.geophysik.uni-muenchen.de/~igel/snap.png?raw=true>\n",
      "<span style=\"font-size:smaller\">\n",
      "from <span style=\"font-style: italic\">Nissen-Meyer et al. (2014). AxiSEM: broadband 3-D seismic wavefields in axisymmetric media. Solid Earth, 5(1), 425\u2013445.</span>\n",
      "</span>\n",
      "</p>\n",
      "\n",
      "# Computational Seismology \n",
      "\n",
      "\n",
      "## *Numerical derivative based on a derivative matrix*\n",
      "\n",
      "\n",
      "**Authors:** *Fabian Lindner and Heiner Igel*\n",
      "\n",
      "### Exercise\n",
      "Calculate the numerical derivative by applying the differentiation matrix $D_{ij}$. Define an arbitrary function (e.g. a Gaussian) and initialize its analytical derivative on the Chebyshev collocation points. Calculate the numerical derivative and the difference to the analytical solution. Vary the wavenumber content of the analytical function. Does it make a difference? Why is the numerical result not entirely exact?\n",
      "\n",
      "<div style=\"clear:both\"></div>"
     ]
    },
    {
     "cell_type": "markdown",
     "metadata": {},
     "source": [
      "Calculating a derivative using the differentation theorem of the Fourier Transform is in the mathematical sense a convolution of the function $f(x)$ with $ik$, where $k$ is the wavenumber and $i$ the imaginary unit. This can also be formulated as a matrix-vector product involving so-called Toeplitz matrices. An elegant (but inefficient) way of performing a derivative operation on a space-dependent function described on the Chebyshev collocation points is by defining a derivative matrix $D_{ij}$\n",
      "\n",
      "$$ D_{ij} \\ = \\ -\\frac{2 N^2 + 1}{6} \\hspace{1.5cm} \\text{for  i  = j = N} $$\n",
      "$$ D_{ij} \\ = \\ -\\frac{1}{2} \\frac{x_i}{1-x_i^2} \\hspace{1.5cm} \\text{for i = j = 1,2,...,N-1} $$\n",
      "$$ D_{ij} \\ = \\ \\frac{c_i}{c_j} \\frac{(-1)^{i+j}}{x_i - x_j} \\hspace{1.5cm} \\text{for i $\\neq$ j =\n",
      "0,1,...,N}$$\n",
      "\n",
      "where $N+1$ is the number of Chebyshev collocation points $ \\ x_i = cos(i\\pi / N)$, $ \\ i=0,...,N$ and the $c_i$ are given as\n",
      "\n",
      "$$ c_i = 2 \\hspace{1.5cm} \\text{for  i  = 0 or N} $$\n",
      "$$ c_i = 1 \\hspace{1.5cm} \\text{otherwise} $$\n",
      "\n",
      "This differentiation matrix allows us to write the derivative of the function $f_i = f(x_i)$ (possibly depending on time) simply as\n",
      "\n",
      "$$\\partial_x u_i = D_{ij} \\ u_j$$\n",
      "\n",
      "where the right-hand side is a matrix-vector product, and the Einstein summation convention applies."
     ]
    },
    {
     "cell_type": "code",
     "collapsed": false,
     "input": [
      "# This is a configuration step for the exercise. Please run it before calculating the derivative!\n",
      "import numpy as np\n",
      "import matplotlib.pyplot as plt\n",
      "\n",
      "# Show the plots in the Notebook.\n",
      "plt.switch_backend(\"nbagg\")"
     ],
     "language": "python",
     "metadata": {},
     "outputs": []
    },
    {
     "cell_type": "markdown",
     "metadata": {},
     "source": [
      "Initalization of the Chebyshev derivative matrix $D_{ij}$ :"
     ]
    },
    {
     "cell_type": "code",
     "collapsed": false,
     "input": [
      "# Function for setting up the Chebyshev derivative matrix\n",
      "def get_cheby_matrix(nx):\n",
      "    cx = np.zeros(nx+1)\n",
      "    x = np.zeros(nx+1)\n",
      "    for ix in range(0,nx+1):\n",
      "        x[ix] = np.cos(np.pi * ix / nx)\n",
      "   \n",
      "    cx[0] = 2.\n",
      "    cx[nx] = 2.\n",
      "    cx[1:nx] = 1.\n",
      "   \n",
      "    D = np.zeros((nx+1,nx+1))\n",
      "    for i in range(0, nx+1):\n",
      "        for j in range(0, nx+1):\n",
      "            if i==j and i!=0 and i!=nx:\n",
      "                D[i,i]=-x[i]/(2.0*(1.0-x[i]*x[i]))\n",
      "            else:\n",
      "                D[i,j]=(cx[i]*(-1)**(i+j))/(cx[j]*(x[i]-x[j]))\n",
      "  \n",
      "    D[0,0] = (2.*nx**2+1.)/6.\n",
      "    D[nx,nx] = -D[0,0]\n",
      "    return D    "
     ],
     "language": "python",
     "metadata": {},
     "outputs": []
    },
    {
     "cell_type": "code",
     "collapsed": false,
     "input": [
      "# Initialize arbitrary test function on Chebyshev collocation points\n",
      "nx = 200     # Number of grid points\n",
      "x = np.zeros(nx+1)\n",
      "for ix in range(0,nx+1):\n",
      "    x[ix] = np.cos(ix * np.pi / nx) \n",
      "dxmin = min(abs(np.diff(x)))\n",
      "dxmax = max(abs(np.diff(x)))\n",
      "\n",
      "# Function example: Gaussian\n",
      "# Width of Gaussian\n",
      "s = .2\n",
      "# Gaussian function (modify!)\n",
      "f = np.exp(-1/s**2 * x**2)\n",
      "# Analytical derivative\n",
      "df_ana = -2/s**2 * x * np.exp(-1/s**2 * x**2)\n",
      "\n",
      "\n",
      "# Calculate numerical derivative using differentiation matrix\n",
      "# Initialize differentiation matrix\n",
      "D = get_cheby_matrix(nx)\n",
      "df_num = np.dot(D, f)\n",
      "\n",
      "# Calculate error between analytical and numerical solution\n",
      "err = np.sum((df_num - df_ana)**2) / np.sum(df_ana**2) * 100\n",
      "\n",
      "\n",
      "# Plot analytical and numerical result\n",
      "plt.plot(x,f,'b',label='f(x)')\n",
      "plt.plot(x,df_num,'r',label='d/dx f(x) - numerical',alpha=0.6)\n",
      "plt.plot(x,df_ana,'r--',label='d/dx f(x) - analytical')\n",
      "plt.xlabel('x')\n",
      "plt.ylabel('f(x) and d/df f(x)')\n",
      "plt.title('Error: %s %%'%err)\n",
      "plt.legend(loc='upper right')\n",
      "plt.show()"
     ],
     "language": "python",
     "metadata": {},
     "outputs": []
    }
   ],
   "metadata": {}
  }
 ]
}