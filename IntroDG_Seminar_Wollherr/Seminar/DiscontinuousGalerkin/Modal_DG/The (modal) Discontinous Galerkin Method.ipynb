{
 "metadata": {
  "name": "",
  "signature": "sha256:793864ec2ab466519daaf4d66df5aea4b564eb62a444311b0cee8cb47c48b1f1"
 },
 "nbformat": 3,
 "nbformat_minor": 0,
 "worksheets": [
  {
   "cells": [
    {
     "cell_type": "heading",
     "level": 1,
     "metadata": {},
     "source": [
      "The (modal) Discontinous Galerkin Method for the linear advection equation"
     ]
    },
    {
     "cell_type": "code",
     "collapsed": false,
     "input": [
      "\n",
      "#---------------------------------------------------------------\n",
      "#\n",
      "#\tDisconteneous Galerkin Method\n",
      "#\t1D Advection Equation\n",
      "#\n",
      "#\tAdvanced Seismology course, Jan. 2014\n",
      "\n",
      "\n",
      "# import python modules\n",
      "\n",
      "from matplotlib import pyplot as plt\n",
      "import numpy as np\n",
      "from pylab import *\n",
      "from matplotlib import animation\n",
      "\n",
      "\n",
      "# ---------------------------------------------------------------\n",
      "# Initialization of setup\n",
      "# ---------------------------------------------------------------\n",
      "\n",
      "nt = 1000        # number of time steps\n",
      "delta_t=0.001        # intervall for the time discretisation\n",
      "n=7\t\t\t\t\t\t# order p=n-i\n",
      "x=[0,0.3,0.6,0.9,1.2,1.5,1.8,2.1,2.4,2.7,3.0,3.3,3.6,3.9,4.2,4.5,4.8,5.1,5.4]\t\t#Vertecies\n",
      "v=1\t\t\t\t\t\t#velocity\n",
      "k=len(x)-1\t\t\t\t# number of elements\n",
      "delta_r=2  \t\t\t\t# size of the reference element\n",
      "\n",
      "# parameters for the gaussian\n",
      "mu=2\t\t\t\t\t\t\n",
      "sig=2\t\n"
     ],
     "language": "python",
     "metadata": {},
     "outputs": [],
     "prompt_number": 2
    },
    {
     "cell_type": "heading",
     "level": 3,
     "metadata": {},
     "source": [
      "The discretization of the advection equation"
     ]
    },
    {
     "cell_type": "markdown",
     "metadata": {},
     "source": [
      "We want to solve the linear advection equation as the simplest (scalar) hyperbolic equation:"
     ]
    },
    {
     "cell_type": "markdown",
     "metadata": {},
     "source": [
      "$$ \\partial_t u + \\mu \\ \\partial_x u=0$$"
     ]
    },
    {
     "cell_type": "markdown",
     "metadata": {},
     "source": [
      "In the modal approach we use Legendre polynomials as basis functions $P_i$ to approximate the solution $u$ in an element $k$ at time $t$:\n",
      "    $$ u_h^k(x,t)= \\sum_{n=1}^{N_p} c_i(t) \\cdot P_i(x) $$"
     ]
    },
    {
     "cell_type": "markdown",
     "metadata": {},
     "source": [
      "with the Legendre polynomials\n",
      "$$P_i(x)=\\frac{1}{2^ii!}\\frac{d^i}{dx^i}[(x^2-1)^i.$$"
     ]
    },
    {
     "cell_type": "markdown",
     "metadata": {},
     "source": [
      "First we define the different coordinates. The canoncial coordinates are given by:"
     ]
    },
    {
     "cell_type": "code",
     "collapsed": false,
     "input": [
      "# ---------------------------------------------------------------\n",
      "# coordinates of the canoncial element r\n",
      "# ---------------------------------------------------------------\n",
      "\n",
      "r=np.zeros(n)\n",
      "int=delta_r/float(n-1)\n",
      "for i in range(0,n):\n",
      "    r[i]=-1+i*int\n",
      "   "
     ],
     "language": "python",
     "metadata": {},
     "outputs": [],
     "prompt_number": 3
    },
    {
     "cell_type": "markdown",
     "metadata": {},
     "source": [
      "The bijection from the canoncial coordinates to the real cooridnates can be calculated by"
     ]
    },
    {
     "cell_type": "markdown",
     "metadata": {},
     "source": [
      "$$x=\\frac{x_{i+1}+x_i}{2}+\\frac{h_i}{2}\\zeta,$$"
     ]
    },
    {
     "cell_type": "markdown",
     "metadata": {},
     "source": [
      "where $\\zeta$ are the canoncial coordinates, and $h_i$ is the size of the element $i$. These coordinates are given by:"
     ]
    },
    {
     "cell_type": "code",
     "collapsed": false,
     "input": [
      "# ---------------------------------------------------------------\n",
      "# length of the element h_i\n",
      "# ---------------------------------------------------------------\t\n",
      "\t\n",
      "delta_x=np.zeros(k)\n",
      "for i in range (0,k):\n",
      "      delta_x[i]=x[i+1]-x[i]; \n",
      "\n",
      "\t\n",
      "# ---------------------------------------------------------------\n",
      "# bijection of the canoncial element r to each element i (matrixform)\n",
      "# ---------------------------------------------------------------\n",
      "\n",
      "x_m=np.zeros((n,k))\n",
      "\n",
      "for i in range (0,k):\n",
      "  for  j in range (0,n):\n",
      "     x_m[j,i]=x[i]+(1+r[j])/2*delta_x[i];\n",
      "# ---------------------------------------------------------------\n",
      "# x_m in vectorform\n",
      "# ---------------------------------------------------------------\n",
      "\n",
      "x_v=x_m.T\n",
      "x_v=x_v.reshape((n*(len(x)-1),1))              "
     ],
     "language": "python",
     "metadata": {},
     "outputs": [],
     "prompt_number": 4
    },
    {
     "cell_type": "markdown",
     "metadata": {},
     "source": [
      "The Legendre polynomials can be calculated with the following recursion:"
     ]
    },
    {
     "cell_type": "markdown",
     "metadata": {},
     "source": [
      "$$(i+1)P_{i+1}(x)=(2i+1)xP_i(x)-iP_{i-1}(x)$$"
     ]
    },
    {
     "cell_type": "code",
     "collapsed": false,
     "input": [
      "# ---------------------------------------------------------------\n",
      "# Legendre Polynomials\n",
      "# ---------------------------------------------------------------\n",
      "\n",
      "def Legendre(n,r):\t\t\n",
      "\tP=np.zeros((n,len(r)))\n",
      "\tP[0,:]=1\n",
      "\tP[1,:]=r\n",
      "\tl=1\n",
      "\tfor i in range(1,n-1):\n",
      "\t\tl=l+1\t\n",
      "\t\tfor k in range(0,len(r)):\n",
      "\t\t\tP[l,k]=1/float(i+1)*((2*i+1)*r[k]*P[i,k]-i*P[i-1,k])\n",
      "    \t   \n",
      "\treturn P.T"
     ],
     "language": "python",
     "metadata": {},
     "outputs": [],
     "prompt_number": 5
    },
    {
     "cell_type": "markdown",
     "metadata": {},
     "source": [
      "The semidiscrete form for an element k is given by:"
     ]
    },
    {
     "cell_type": "markdown",
     "metadata": {},
     "source": [
      "$$M_{ij}\\frac{d}{dx}c_{i}(t)=S_{ij}c_i(t)-F_{ij}^rc_i(t)+F_{ij}^lc_i(t)$$"
     ]
    },
    {
     "cell_type": "markdown",
     "metadata": {},
     "source": [
      "With the Legendre polynomials the mass and stiffness matrices can be calculate very easy. The mass matrix is given by:\n"
     ]
    },
    {
     "cell_type": "markdown",
     "metadata": {},
     "source": [
      "$$M_{i,j}^k=\\int_{-1}^{1}  P_i(\\zeta) \\ P_j(\\zeta) \\ d\\zeta=\\frac{1}{2k+1}\\delta_{ij}$$"
     ]
    },
    {
     "cell_type": "code",
     "collapsed": false,
     "input": [
      "# ---------------------------------------------------------------\n",
      "# Mass matrix\n",
      "# ---------------------------------------------------------------\n",
      "\n",
      "M=np.zeros((n,n))\t\n",
      "\t\n",
      "for i in range(0,n):\n",
      "    M[i,i]=delta_x[1]/float(2*i+1);\n",
      "   \n",
      "M_inv=linalg.inv(M)\n",
      "print M"
     ],
     "language": "python",
     "metadata": {},
     "outputs": [
      {
       "output_type": "stream",
       "stream": "stdout",
       "text": [
        "[[ 0.3         0.          0.          0.          0.          0.          0.        ]\n",
        " [ 0.          0.1         0.          0.          0.          0.          0.        ]\n",
        " [ 0.          0.          0.06        0.          0.          0.          0.        ]\n",
        " [ 0.          0.          0.          0.04285714  0.          0.          0.        ]\n",
        " [ 0.          0.          0.          0.          0.03333333  0.          0.        ]\n",
        " [ 0.          0.          0.          0.          0.          0.02727273\n",
        "   0.        ]\n",
        " [ 0.          0.          0.          0.          0.          0.\n",
        "   0.02307692]]\n"
       ]
      }
     ],
     "prompt_number": 6
    },
    {
     "cell_type": "markdown",
     "metadata": {},
     "source": [
      "The stiffness matrix can be calculated with the recurision:"
     ]
    },
    {
     "cell_type": "markdown",
     "metadata": {},
     "source": [
      "$$ S^k_{i,j}= \\int_{-1}^{1} \\partial_x P_i(\\zeta) \\ P_j(\\zeta)d\\zeta=(2i-1)\\int_{-1}^{1} P_{i-1}(\\zeta)P_j(\\zeta)d\\zeta+(2i-3)\\int_{-1}^{1}P_{i-3}(\\zeta)P_j(\\zeta)d\\zeta+... $$"
     ]
    },
    {
     "cell_type": "markdown",
     "metadata": {},
     "source": [
      "For expample for n=3 we get:"
     ]
    },
    {
     "cell_type": "markdown",
     "metadata": {},
     "source": [
      " $$S^k_{i,j}=\\ \n",
      "\\begin{pmatrix}\n",
      "0 &  0   & 0   & 0 \\\\\n",
      "2  &  0 & 0 & 0\\\\\n",
      "0 & 2 & 0 & 0 \\\\\n",
      "2  &   0    & 2 &0 \\\\\n",
      "\\end{pmatrix}\n",
      "$$"
     ]
    },
    {
     "cell_type": "code",
     "collapsed": false,
     "input": [
      "# ---------------------------------------------------------------\n",
      "# Stiffness matrix\n",
      "# ---------------------------------------------------------------\n",
      "\n",
      "S=zeros((n,n))\n",
      "\n",
      "if n%2==0:\t\n",
      "\tfor j in range(0,n/2):\n",
      "\t\tl=2*j\t\n",
      "\t\tfor i in range(0,2*j+1):\n",
      "\n",
      "\t\t\tS[n-1-i,l-i]=2\n",
      "else:\n",
      "\tfor j in range(0,(n-1)/2):\n",
      "\t\tl=2*j+1\t\n",
      "\t\tfor i in range(0,2*j+2):\n",
      "\n",
      "\t\t\tS[n-1-i,l-i]=2\t\n",
      "S=np.dot(S,v)\n",
      "print S"
     ],
     "language": "python",
     "metadata": {},
     "outputs": [
      {
       "output_type": "stream",
       "stream": "stdout",
       "text": [
        "[[ 0.  0.  0.  0.  0.  0.  0.]\n",
        " [ 2.  0.  0.  0.  0.  0.  0.]\n",
        " [ 0.  2.  0.  0.  0.  0.  0.]\n",
        " [ 2.  0.  2.  0.  0.  0.  0.]\n",
        " [ 0.  2.  0.  2.  0.  0.  0.]\n",
        " [ 2.  0.  2.  0.  2.  0.  0.]\n",
        " [ 0.  2.  0.  2.  0.  2.  0.]]\n"
       ]
      }
     ],
     "prompt_number": 7
    },
    {
     "cell_type": "markdown",
     "metadata": {},
     "source": [
      "For this implementation we use the upwind flux with a positive velocity (propagating to the rigth). The upwind flux for the negative velocity is straigth forward. The right side of the Flux matrix is simply given by:"
     ]
    },
    {
     "cell_type": "markdown",
     "metadata": {},
     "source": [
      "$$F_{ij}^r=\\  P_i(1) \\ P_j(1) = 1 $$"
     ]
    },
    {
     "cell_type": "markdown",
     "metadata": {},
     "source": [
      "For the left side of the upwind flux we receive:"
     ]
    },
    {
     "cell_type": "markdown",
     "metadata": {},
     "source": [
      "$$F_{ij}^l=\\ P_i(1) \\ P_j(-1) = (-1)^i \\ \\text{ for i = 0,1,....} $$"
     ]
    },
    {
     "cell_type": "code",
     "collapsed": false,
     "input": [
      "# ---------------------------------------------------------------\n",
      "# Numerical Flux: right side\n",
      "# ---------------------------------------------------------------\n",
      "\n",
      "F_r=np.ones((n,n))\n",
      "F_r=np.dot(F_r,v)\n",
      "print F_r\n",
      "\n",
      "\n",
      "# ---------------------------------------------------------------\n",
      "# Numerical Flux: left side\n",
      "# ---------------------------------------------------------------\n",
      "\n",
      "F_l=np.zeros((n,n))\n",
      "\n",
      "for i in range(0,n):\n",
      "\t\tF_l[i,:]=(-1)**i\n",
      "F_l=F_l*v;\n",
      "print F_l"
     ],
     "language": "python",
     "metadata": {},
     "outputs": [
      {
       "output_type": "stream",
       "stream": "stdout",
       "text": [
        "[[ 1.  1.  1.  1.  1.  1.  1.]\n",
        " [ 1.  1.  1.  1.  1.  1.  1.]\n",
        " [ 1.  1.  1.  1.  1.  1.  1.]\n",
        " [ 1.  1.  1.  1.  1.  1.  1.]\n",
        " [ 1.  1.  1.  1.  1.  1.  1.]\n",
        " [ 1.  1.  1.  1.  1.  1.  1.]\n",
        " [ 1.  1.  1.  1.  1.  1.  1.]]\n",
        "[[ 1.  1.  1.  1.  1.  1.  1.]\n",
        " [-1. -1. -1. -1. -1. -1. -1.]\n",
        " [ 1.  1.  1.  1.  1.  1.  1.]\n",
        " [-1. -1. -1. -1. -1. -1. -1.]\n",
        " [ 1.  1.  1.  1.  1.  1.  1.]\n",
        " [-1. -1. -1. -1. -1. -1. -1.]\n",
        " [ 1.  1.  1.  1.  1.  1.  1.]]\n"
       ]
      }
     ],
     "prompt_number": 8
    },
    {
     "cell_type": "markdown",
     "metadata": {},
     "source": [
      "Now we only have to calculate the time interpolation. For that implementation we use the euler scheme given by:"
     ]
    },
    {
     "cell_type": "markdown",
     "metadata": {},
     "source": [
      "$$c_i(t_{n+1})=c(t_n)+\\Delta tLc(t_n)$$"
     ]
    },
    {
     "cell_type": "markdown",
     "metadata": {},
     "source": [
      "For the initial conditions we use gaussian."
     ]
    },
    {
     "cell_type": "code",
     "collapsed": false,
     "input": [
      "# ---------------------------------------------------------------\n",
      "# initial condition (e.g. gaussian)\n",
      "# ---------------------------------------------------------------\n",
      "\n",
      "def gaussian(x, mu, sig):\n",
      "    return np.exp(-np.power(x - mu, 2.) / 2 * np.power(sig, 2.))\n",
      "\n",
      "\n",
      "\n",
      "# ---------------------------------------------------------------\n",
      "# initial conditions in vectorform\n",
      "# ---------------------------------------------------------------\n",
      "\n",
      "g=gaussian(x_m,mu,sig)\n",
      "g_v=g.T\t\n",
      "g_0=g_v.reshape((n*(len(x)-1),1))\n",
      "\n",
      "\n",
      "\n",
      "# ---------------------------------------------------------------\n",
      "# transformation of the real to the parameter space\n",
      "# ---------------------------------------------------------------\n",
      "\n",
      "P=Legendre(n,r)\n",
      "c=np.dot(linalg.inv(P),g)\n",
      "\n"
     ],
     "language": "python",
     "metadata": {},
     "outputs": []
    },
    {
     "cell_type": "code",
     "collapsed": false,
     "input": [
      "\n",
      "\n",
      "# ---------------------------------------------------------------\n",
      "# Time extrapolation: Euler scheme\n",
      "# ---------------------------------------------------------------\n",
      "\n",
      "cd=np.zeros((n,k))\n",
      "ce=np.zeros((n,k))\n",
      "c_l=np.zeros((n,k))\n",
      "\n",
      "\n",
      "# First set up the figure, the axis, and the plot element we want to animate\n",
      "fig = plt.figure()\n",
      "ax = plt.axes(xlim=(0, 5), ylim=(0, 1.1))\n",
      "line, = ax.plot([], [], lw=2)\n",
      "ax.set_xlabel('x[m]')\n",
      "ax.set_ylabel('Amplitude')\n",
      "\n",
      "\n",
      "\n",
      "\n",
      "c_l=np.zeros((n,k))\n",
      "\n",
      "\n",
      "def next_time_step(i):\n",
      "\tglobal M_inv,F_l,c,F_r,c_l,S,P,x_v\n",
      "\n",
      "\tfor t in range(0,nt):\n",
      "\t\tfor i in range(0,k-1):\t\t\t#......\n",
      "\t\t\tc_l[:,i+1]=c[:,i]\t\t\n",
      "\n",
      "\t\tsd=np.dot(np.dot(M_inv,F_l),c_l)-np.dot(np.dot(M_inv,F_r) ,c)+np.dot(np.dot(M_inv,S),c)\n",
      "\t\tc=c+delta_t*sd\n",
      "\t\n",
      "\t\tc_u=np.dot(P,c).T\n",
      "\t\tg_t=c_u.reshape(n*k,1); \n",
      "\t\tline.set_data(x_v, g_t)\n",
      " \n",
      "\t\treturn line\n",
      "       \n",
      "   \n",
      " \n",
      "   \n",
      "# ---------------------------------------------------------------\n",
      "# Animation\n",
      "# ---------------------------------------------------------------\n",
      "           \n",
      "ani = animation.FuncAnimation(fig, next_time_step,frames=1000, interval=1, repeat = False)\n",
      "plt.show()\n",
      "  \n",
      "    \n",
      "   "
     ],
     "language": "python",
     "metadata": {},
     "outputs": []
    },
    {
     "cell_type": "code",
     "collapsed": false,
     "input": [],
     "language": "python",
     "metadata": {},
     "outputs": []
    },
    {
     "cell_type": "code",
     "collapsed": false,
     "input": [],
     "language": "python",
     "metadata": {},
     "outputs": []
    },
    {
     "cell_type": "code",
     "collapsed": false,
     "input": [],
     "language": "python",
     "metadata": {},
     "outputs": []
    }
   ],
   "metadata": {}
  }
 ]
}