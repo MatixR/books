{
 "cells": [
  {
   "cell_type": "code",
   "execution_count": 1,
   "metadata": {
    "collapsed": false
   },
   "outputs": [
    {
     "name": "stdout",
     "output_type": "stream",
     "text": [
      "IPython console for SymPy 1.0 (Python 3.5.3-64-bit) (ground types: gmpy)\n",
      "\n",
      "These commands were executed:\n",
      ">>> from __future__ import division\n",
      ">>> from sympy import *\n",
      ">>> x, y, z, t = symbols('x y z t')\n",
      ">>> k, m, n = symbols('k m n', integer=True)\n",
      ">>> f, g, h = symbols('f g h', cls=Function)\n",
      ">>> init_printing()\n",
      "\n",
      "Documentation can be found at http://docs.sympy.org/1.0/\n"
     ]
    }
   ],
   "source": [
    "from sympy import init_session\n",
    "init_session()"
   ]
  },
  {
   "cell_type": "markdown",
   "metadata": {},
   "source": [
    "## Linear axisymmetric conservative interpolation"
   ]
  },
  {
   "cell_type": "markdown",
   "metadata": {},
   "source": [
    "We want to construct a linear polynomal through that points $r_i$, $r_{i+1}$ that gives the correct averages,\n",
    "$r_i$, and $r_{i+1}$ when integrated over the volume, e.g.\n",
    "\n",
    "$$\\frac{1}{r_i \\Delta r} \\int_{r_{i-1/2}}^{r_{i+1/2}} f(r) r dr = f_i$$\n",
    "\n",
    "There are 2 unknowns and two constraints"
   ]
  },
  {
   "cell_type": "markdown",
   "metadata": {},
   "source": [
    "Define the polynomial"
   ]
  },
  {
   "cell_type": "code",
   "execution_count": 3,
   "metadata": {
    "collapsed": false
   },
   "outputs": [
    {
     "data": {
      "image/png": "[encoded data removed]",
      "text/latex": [
       "$$a \\left(r - r_{0}\\right) + b$$"
      ],
      "text/plain": [
       "a⋅(r - r₀) + b"
      ]
     },
     "execution_count": 3,
     "metadata": {},
     "output_type": "execute_result"
    }
   ],
   "source": [
    "a, b = symbols(\"a b\")\n",
    "r, r0 = symbols(\"r r0\")\n",
    "f = a*(r-r0) + b\n",
    "f"
   ]
  },
  {
   "cell_type": "code",
   "execution_count": 4,
   "metadata": {
    "collapsed": false
   },
   "outputs": [],
   "source": [
    "dr = symbols(\"\\Delta\")"
   ]
  },
  {
   "cell_type": "markdown",
   "metadata": {},
   "source": [
    "### constraints"
   ]
  },
  {
   "cell_type": "markdown",
   "metadata": {},
   "source": [
    "Define the constraint equations---here we set them up construct $A$ and $B$ integrals over the 2 control volumes"
   ]
  },
  {
   "cell_type": "code",
   "execution_count": 7,
   "metadata": {
    "collapsed": false
   },
   "outputs": [],
   "source": [
    "f0, fp = symbols(\"f_i f_{i+1}\")\n",
    "\n",
    "rm12 = r0 - Rational(1,2)*dr\n",
    "rp12 = r0 + Rational(1,2)*dr\n",
    "rp32 = r0 + Rational(3,2)*dr\n",
    "\n",
    "r1 = r0 + dr"
   ]
  },
  {
   "cell_type": "markdown",
   "metadata": {},
   "source": [
    "interfaces"
   ]
  },
  {
   "cell_type": "code",
   "execution_count": 6,
   "metadata": {
    "collapsed": false
   },
   "outputs": [
    {
     "data": {
      "image/png": "[encoded data removed]",
      "text/latex": [
       "$$\\left ( - \\frac{\\Delta}{2} + r_{0}, \\quad \\frac{\\Delta}{2} + r_{0}, \\quad \\frac{3 \\Delta}{2} + r_{0}\\right )$$"
      ],
      "text/plain": [
       "⎛  \\Delta       \\Delta       3⋅\\Delta     ⎞\n",
       "⎜- ────── + r₀, ────── + r₀, ──────── + r₀⎟\n",
       "⎝    2            2             2         ⎠"
      ]
     },
     "execution_count": 6,
     "metadata": {},
     "output_type": "execute_result"
    }
   ],
   "source": [
    "rm12, rp12, rp32"
   ]
  },
  {
   "cell_type": "markdown",
   "metadata": {},
   "source": [
    "centers"
   ]
  },
  {
   "cell_type": "code",
   "execution_count": 8,
   "metadata": {
    "collapsed": false
   },
   "outputs": [
    {
     "data": {
      "image/png": "[encoded data removed]",
      "text/latex": [
       "$$\\left ( r_{0}, \\quad \\Delta + r_{0}\\right )$$"
      ],
      "text/plain": [
       "(r₀, \\Delta + r₀)"
      ]
     },
     "execution_count": 8,
     "metadata": {},
     "output_type": "execute_result"
    }
   ],
   "source": [
    "r0, r1"
   ]
  },
  {
   "cell_type": "code",
   "execution_count": 10,
   "metadata": {
    "collapsed": false
   },
   "outputs": [],
   "source": [
    "A = simplify(integrate(f*r/(r0*dr), (r, rm12, rp12)))\n",
    "B = simplify(integrate(f*r/(r1*dr), (r, rp12, rp32)))"
   ]
  },
  {
   "cell_type": "markdown",
   "metadata": {},
   "source": [
    "The analytic forms of the integrals"
   ]
  },
  {
   "cell_type": "code",
   "execution_count": 11,
   "metadata": {
    "collapsed": false
   },
   "outputs": [
    {
     "data": {
      "image/png": "[encoded data removed]",
      "text/latex": [
       "$$\\left ( \\frac{\\Delta^{2} a}{12 r_{0}} + b, \\quad \\frac{1}{\\Delta + r_{0}} \\left(\\frac{13 a}{12} \\Delta^{2} + \\Delta a r_{0} + \\Delta b + b r_{0}\\right)\\right )$$"
      ],
      "text/plain": [
       "⎛                        2                                  ⎞\n",
       "⎜               13⋅\\Delta ⋅a                                ⎟\n",
       "⎜      2        ──────────── + \\Delta⋅a⋅r₀ + \\Delta⋅b + b⋅r₀⎟\n",
       "⎜\\Delta ⋅a           12                                     ⎟\n",
       "⎜───────── + b, ────────────────────────────────────────────⎟\n",
       "⎝  12⋅r₀                        \\Delta + r₀                 ⎠"
      ]
     },
     "execution_count": 11,
     "metadata": {},
     "output_type": "execute_result"
    }
   ],
   "source": [
    "A, B"
   ]
  },
  {
   "cell_type": "markdown",
   "metadata": {},
   "source": [
    "Our linear system is now:\n",
    "\n",
    "$$A = f_i$$\n",
    "$$B = f_{i+1}$$"
   ]
  },
  {
   "cell_type": "markdown",
   "metadata": {},
   "source": [
    "Now find the coefficients of the polynomial"
   ]
  },
  {
   "cell_type": "code",
   "execution_count": 12,
   "metadata": {
    "collapsed": false
   },
   "outputs": [
    {
     "data": {
      "image/png": "[encoded data removed]",
      "text/latex": [
       "$$\\left \\{ a : \\frac{12 r_{0} \\left(\\Delta + r_{0}\\right) \\left(f_{i} - f_{i+1}\\right)}{\\Delta \\left(\\Delta \\left(\\Delta + r_{0}\\right) - r_{0} \\left(13 \\Delta + 12 r_{0}\\right)\\right)}, \\quad b : \\frac{\\Delta f_{i+1} \\left(\\Delta + r_{0}\\right) - f_{i} r_{0} \\left(13 \\Delta + 12 r_{0}\\right)}{\\Delta \\left(\\Delta + r_{0}\\right) - r_{0} \\left(13 \\Delta + 12 r_{0}\\right)}\\right \\}$$"
      ],
      "text/plain": [
       "⎧             12⋅r₀⋅(\\Delta + r₀)⋅(fᵢ - f_{i+1})               \\Delta⋅f_{i+1}⋅\n",
       "⎨a: ──────────────────────────────────────────────────────, b: ───────────────\n",
       "⎩   \\Delta⋅(\\Delta⋅(\\Delta + r₀) - r₀⋅(13⋅\\Delta + 12⋅r₀))          \\Delta⋅(\\D\n",
       "\n",
       "(\\Delta + r₀) - fᵢ⋅r₀⋅(13⋅\\Delta + 12⋅r₀)⎫\n",
       "─────────────────────────────────────────⎬\n",
       "elta + r₀) - r₀⋅(13⋅\\Delta + 12⋅r₀)      ⎭"
      ]
     },
     "execution_count": 12,
     "metadata": {},
     "output_type": "execute_result"
    }
   ],
   "source": [
    "coeffs = solve([A-f0, B-fp], [a,b])\n",
    "coeffs"
   ]
  },
  {
   "cell_type": "markdown",
   "metadata": {},
   "source": [
    "And in pretty form, here's the polynomial"
   ]
  },
  {
   "cell_type": "code",
   "execution_count": 14,
   "metadata": {
    "collapsed": false
   },
   "outputs": [
    {
     "data": {
      "image/png": "[encoded data removed]",
      "text/latex": [
       "$$\\frac{\\Delta f_{i+1} \\left(\\Delta + r_{0}\\right) - f_{i} r_{0} \\left(13 \\Delta + 12 r_{0}\\right)}{\\Delta \\left(\\Delta + r_{0}\\right) - r_{0} \\left(13 \\Delta + 12 r_{0}\\right)} + \\frac{12 r_{0} \\left(\\Delta + r_{0}\\right) \\left(f_{i} - f_{i+1}\\right) \\left(r - r_{0}\\right)}{\\Delta \\left(\\Delta \\left(\\Delta + r_{0}\\right) - r_{0} \\left(13 \\Delta + 12 r_{0}\\right)\\right)}$$"
      ],
      "text/plain": [
       "\\Delta⋅f_{i+1}⋅(\\Delta + r₀) - fᵢ⋅r₀⋅(13⋅\\Delta + 12⋅r₀)        12⋅r₀⋅(\\Delta \n",
       "──────────────────────────────────────────────────────── + ───────────────────\n",
       "     \\Delta⋅(\\Delta + r₀) - r₀⋅(13⋅\\Delta + 12⋅r₀)         \\Delta⋅(\\Delta⋅(\\De\n",
       "\n",
       "+ r₀)⋅(fᵢ - f_{i+1})⋅(r - r₀)      \n",
       "───────────────────────────────────\n",
       "lta + r₀) - r₀⋅(13⋅\\Delta + 12⋅r₀))"
      ]
     },
     "execution_count": 14,
     "metadata": {},
     "output_type": "execute_result"
    }
   ],
   "source": [
    "l = f.subs(a,coeffs[a]).subs(b,coeffs[b])\n",
    "l"
   ]
  },
  {
   "cell_type": "markdown",
   "metadata": {
    "collapsed": false
   },
   "source": [
    "Now, evaluate it on the interface"
   ]
  },
  {
   "cell_type": "code",
   "execution_count": 16,
   "metadata": {
    "collapsed": false
   },
   "outputs": [],
   "source": [
    "a = l.subs(r, rp12)"
   ]
  },
  {
   "cell_type": "code",
   "execution_count": 17,
   "metadata": {
    "collapsed": false
   },
   "outputs": [
    {
     "data": {
      "image/png": "[encoded data removed]",
      "text/latex": [
       "$$\\frac{\\Delta f_{i+1} \\left(\\Delta + r_{0}\\right) - f_{i} r_{0} \\left(13 \\Delta + 12 r_{0}\\right) + 6 r_{0} \\left(\\Delta + r_{0}\\right) \\left(f_{i} - f_{i+1}\\right)}{\\Delta \\left(\\Delta + r_{0}\\right) - r_{0} \\left(13 \\Delta + 12 r_{0}\\right)}$$"
      ],
      "text/plain": [
       "\\Delta⋅f_{i+1}⋅(\\Delta + r₀) - fᵢ⋅r₀⋅(13⋅\\Delta + 12⋅r₀) + 6⋅r₀⋅(\\Delta + r₀)⋅\n",
       "──────────────────────────────────────────────────────────────────────────────\n",
       "                       \\Delta⋅(\\Delta + r₀) - r₀⋅(13⋅\\Delta + 12⋅r₀)          \n",
       "\n",
       "(fᵢ - f_{i+1})\n",
       "──────────────\n",
       "              "
      ]
     },
     "execution_count": 17,
     "metadata": {},
     "output_type": "execute_result"
    }
   ],
   "source": [
    "simplify(a)"
   ]
  },
  {
   "cell_type": "code",
   "execution_count": null,
   "metadata": {
    "collapsed": true
   },
   "outputs": [],
   "source": []
  }
 ],
 "metadata": {
  "kernelspec": {
   "display_name": "Python 3",
   "language": "python",
   "name": "python3"
  },
  "language_info": {
   "codemirror_mode": {
    "name": "ipython",
    "version": 3
   },
   "file_extension": ".py",
   "mimetype": "text/x-python",
   "name": "python",
   "nbconvert_exporter": "python",
   "pygments_lexer": "ipython3",
   "version": "3.5.3"
  }
 },
 "nbformat": 4,
 "nbformat_minor": 0
}
