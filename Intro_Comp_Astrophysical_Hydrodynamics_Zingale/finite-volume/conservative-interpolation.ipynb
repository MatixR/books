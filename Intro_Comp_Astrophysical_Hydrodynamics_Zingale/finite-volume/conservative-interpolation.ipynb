{
 "cells": [
  {
   "cell_type": "code",
   "execution_count": 1,
   "metadata": {},
   "outputs": [
    {
     "name": "stdout",
     "output_type": "stream",
     "text": [
      "IPython console for SymPy 1.0 (Python 3.6.2-64-bit) (ground types: python)\n",
      "\n",
      "These commands were executed:\n",
      ">>> from __future__ import division\n",
      ">>> from sympy import *\n",
      ">>> x, y, z, t = symbols('x y z t')\n",
      ">>> k, m, n = symbols('k m n', integer=True)\n",
      ">>> f, g, h = symbols('f g h', cls=Function)\n",
      ">>> init_printing()\n",
      "\n",
      "Documentation can be found at http://docs.sympy.org/1.0/\n"
     ]
    }
   ],
   "source": [
    "from sympy import init_session\n",
    "init_session()"
   ]
  },
  {
   "cell_type": "markdown",
   "metadata": {},
   "source": [
    "## Quadratic"
   ]
  },
  {
   "cell_type": "markdown",
   "metadata": {},
   "source": [
    "We want to construct a quadratic polynomal through that points $x_{i-1}$, $x_i$, $x_{i+1}$ that gives the correct averages,\n",
    "$f_{i-1}$, $f_i$, and $f_{i-1}$ when integrated over the volume, e.g.\n",
    "\n",
    "$$\\frac{1}{\\Delta x} \\int_{x_{i-1/2}}^{x_{i+1/2}} f(x) dx = f_i$$\n",
    "\n",
    "There are 3 unknowns in the quadratic and three constraints, so this is a linear system we can solve."
   ]
  },
  {
   "cell_type": "markdown",
   "metadata": {},
   "source": [
    "Define the quadratic polynomial"
   ]
  },
  {
   "cell_type": "code",
   "execution_count": 2,
   "metadata": {},
   "outputs": [
    {
     "data": {
      "image/png": "[encoded data removed]",
      "text/latex": [
       "$$a \\left(x - x_{0}\\right)^{2} + b \\left(x - x_{0}\\right) + c$$"
      ],
      "text/plain": [
       "          2                 \n",
       "a⋅(x - x₀)  + b⋅(x - x₀) + c"
      ]
     },
     "execution_count": 2,
     "metadata": {},
     "output_type": "execute_result"
    }
   ],
   "source": [
    "a, b, c = symbols(\"a b c\")\n",
    "x0 = symbols(\"x0\")\n",
    "f = a*(x-x0)**2 + b*(x-x0) + c\n",
    "f"
   ]
  },
  {
   "cell_type": "code",
   "execution_count": 3,
   "metadata": {
    "collapsed": true
   },
   "outputs": [],
   "source": [
    "dx = symbols(\"\\Delta\")"
   ]
  },
  {
   "cell_type": "markdown",
   "metadata": {},
   "source": [
    "### constraints"
   ]
  },
  {
   "cell_type": "markdown",
   "metadata": {},
   "source": [
    "Define the 3 constraint equations---here we set them up construct $A$, $B$, and $C$ as the integrals over the 3 control volumes"
   ]
  },
  {
   "cell_type": "code",
   "execution_count": 4,
   "metadata": {
    "collapsed": true
   },
   "outputs": [],
   "source": [
    "fm, f0, fp = symbols(\"f_{i-1} f_i f_{i+1}\")\n",
    "#xm32, xm12, xp12, xp32 = symbols(\"x_{i-3/2} x_{i-1/2} x_{i+1/2} x_{i+3/2}\")\n",
    "xm32 = x0 - Rational(3,2)*dx\n",
    "xm12 = x0 - Rational(1,2)*dx\n",
    "xp12 = x0 + Rational(1,2)*dx\n",
    "xp32 = x0 + Rational(3,2)*dx"
   ]
  },
  {
   "cell_type": "markdown",
   "metadata": {},
   "source": [
    "interfaces"
   ]
  },
  {
   "cell_type": "code",
   "execution_count": 5,
   "metadata": {},
   "outputs": [
    {
     "data": {
      "image/png": "[encoded data removed]",
      "text/latex": [
       "$$\\left ( - \\frac{3 \\Delta}{2} + x_{0}, \\quad - \\frac{\\Delta}{2} + x_{0}, \\quad \\frac{\\Delta}{2} + x_{0}, \\quad \\frac{3 \\Delta}{2} + x_{0}\\right )$$"
      ],
      "text/plain": [
       "⎛  3⋅\\Delta         \\Delta       \\Delta       3⋅\\Delta     ⎞\n",
       "⎜- ──────── + x₀, - ────── + x₀, ────── + x₀, ──────── + x₀⎟\n",
       "⎝     2               2            2             2         ⎠"
      ]
     },
     "execution_count": 5,
     "metadata": {},
     "output_type": "execute_result"
    }
   ],
   "source": [
    "xm32, xm12, xp12, xp32"
   ]
  },
  {
   "cell_type": "code",
   "execution_count": 6,
   "metadata": {
    "collapsed": true
   },
   "outputs": [],
   "source": [
    "A = simplify(integrate(f/dx, (x, xm32, xm12)))\n",
    "B = simplify(integrate(f/dx, (x, xm12, xp12)))\n",
    "C = simplify(integrate(f/dx, (x, xp12, xp32)))"
   ]
  },
  {
   "cell_type": "markdown",
   "metadata": {},
   "source": [
    "The analytic forms of the integrals"
   ]
  },
  {
   "cell_type": "code",
   "execution_count": 7,
   "metadata": {},
   "outputs": [
    {
     "data": {
      "image/png": "[encoded data removed]",
      "text/latex": [
       "$$\\left ( \\frac{13 a}{12} \\Delta^{2} - \\Delta b + c, \\quad \\frac{\\Delta^{2} a}{12} + c, \\quad \\frac{13 a}{12} \\Delta^{2} + \\Delta b + c\\right )$$"
      ],
      "text/plain": [
       "⎛         2                         2                 2                 ⎞\n",
       "⎜13⋅\\Delta ⋅a                 \\Delta ⋅a      13⋅\\Delta ⋅a               ⎟\n",
       "⎜──────────── - \\Delta⋅b + c, ───────── + c, ──────────── + \\Delta⋅b + c⎟\n",
       "⎝     12                          12              12                    ⎠"
      ]
     },
     "execution_count": 7,
     "metadata": {},
     "output_type": "execute_result"
    }
   ],
   "source": [
    "A, B, C"
   ]
  },
  {
   "cell_type": "markdown",
   "metadata": {},
   "source": [
    "Our linear system is now:\n",
    "\n",
    "$$A = f_{i-1}$$\n",
    "$$B = f_i$$\n",
    "$$C = f_{i+1}$$"
   ]
  },
  {
   "cell_type": "markdown",
   "metadata": {},
   "source": [
    "Now find the coefficients of the polynomial"
   ]
  },
  {
   "cell_type": "code",
   "execution_count": 8,
   "metadata": {},
   "outputs": [
    {
     "data": {
      "image/png": "[encoded data removed]",
      "text/latex": [
       "$$\\left \\{ a : \\frac{1}{2 \\Delta^{2}} \\left(- 2 f_{i} + f_{i+1} + f_{i-1}\\right), \\quad b : \\frac{f_{i+1} - f_{i-1}}{2 \\Delta}, \\quad c : \\frac{13 f_{i}}{12} - \\frac{f_{i+1}}{24} - \\frac{f_{i-1}}{24}\\right \\}$$"
      ],
      "text/plain": [
       "⎧   -2⋅fᵢ + f_{i+1} + f_{i-1}     f_{i+1} - f_{i-1}     13⋅fᵢ   f_{i+1}   f_{i\n",
       "⎪a: ─────────────────────────, b: ─────────────────, c: ───── - ─────── - ────\n",
       "⎨                   2                  2⋅\\Delta           12       24        2\n",
       "⎪           2⋅\\Delta                                                          \n",
       "⎩                                                                             \n",
       "\n",
       "-1}⎫\n",
       "───⎪\n",
       "4  ⎬\n",
       "   ⎪\n",
       "   ⎭"
      ]
     },
     "execution_count": 8,
     "metadata": {},
     "output_type": "execute_result"
    }
   ],
   "source": [
    "coeffs = solve([A-fm, B-f0, C-fp], [a,b,c])\n",
    "coeffs"
   ]
  },
  {
   "cell_type": "markdown",
   "metadata": {},
   "source": [
    "And in pretty form, here's the polynomial"
   ]
  },
  {
   "cell_type": "code",
   "execution_count": 9,
   "metadata": {},
   "outputs": [
    {
     "data": {
      "image/png": "[encoded data removed]",
      "text/latex": [
       "$$\\frac{13 f_{i}}{12} - \\frac{f_{i+1}}{24} - \\frac{f_{i-1}}{24} + \\frac{1}{2 \\Delta} \\left(f_{i+1} - f_{i-1}\\right) \\left(x - x_{0}\\right) + \\frac{\\left(x - x_{0}\\right)^{2}}{2 \\Delta^{2}} \\left(- 2 f_{i} + f_{i+1} + f_{i-1}\\right)$$"
      ],
      "text/plain": [
       "                                                                   2          \n",
       "13⋅fᵢ   f_{i+1}   f_{i-1}   (f_{i+1} - f_{i-1})⋅(x - x₀)   (x - x₀) ⋅(-2⋅fᵢ + \n",
       "───── - ─────── - ─────── + ──────────────────────────── + ───────────────────\n",
       "  12       24        24               2⋅\\Delta                                \n",
       "                                                                         2⋅\\De\n",
       "\n",
       "                  \n",
       "f_{i+1} + f_{i-1})\n",
       "──────────────────\n",
       "   2              \n",
       "lta               "
      ]
     },
     "execution_count": 9,
     "metadata": {},
     "output_type": "execute_result"
    }
   ],
   "source": [
    "f.subs(a,coeffs[a]).subs(b,coeffs[b]).subs(c,coeffs[c])"
   ]
  },
  {
   "cell_type": "markdown",
   "metadata": {},
   "source": [
    "### Cubic"
   ]
  },
  {
   "cell_type": "markdown",
   "metadata": {},
   "source": [
    "We want to construct a cubic polynomal through that points $x_{i-2}$, $x_{i-1}$, $x_i$, $x_{i+1}$ that gives the correct averages,\n",
    "$f_{i-2}$, $f_{i-1}$, $f_i$, and $f_{i-1}$ when integrated over the volume of each zone"
   ]
  },
  {
   "cell_type": "code",
   "execution_count": 10,
   "metadata": {},
   "outputs": [
    {
     "data": {
      "image/png": "[encoded data removed]",
      "text/latex": [
       "$$a \\left(x - x_{0}\\right)^{3} + b \\left(x - x_{0}\\right)^{2} + c \\left(x - x_{0}\\right) + d$$"
      ],
      "text/plain": [
       "          3             2                 \n",
       "a⋅(x - x₀)  + b⋅(x - x₀)  + c⋅(x - x₀) + d"
      ]
     },
     "execution_count": 10,
     "metadata": {},
     "output_type": "execute_result"
    }
   ],
   "source": [
    "a, b, c, d = symbols(\"a b c d\")\n",
    "f = a*(x-x0)**3 + b*(x-x0)**2 + c*(x-x0) + d\n",
    "f"
   ]
  },
  {
   "cell_type": "markdown",
   "metadata": {},
   "source": [
    "Now perform the integals of $f(x)$ over each zone"
   ]
  },
  {
   "cell_type": "code",
   "execution_count": 11,
   "metadata": {
    "collapsed": true
   },
   "outputs": [],
   "source": [
    "fm2, fm, f0, fp = symbols(\"f_{i-2} f_{i-1} f_i f_{i+1}\")\n",
    "xm52 = x0 - Rational(5,2)*dx\n",
    "xm32 = x0 - Rational(3,2)*dx\n",
    "xm12 = x0 - Rational(1,2)*dx\n",
    "xp12 = x0 + Rational(1,2)*dx\n",
    "xp32 = x0 + Rational(3,2)*dx"
   ]
  },
  {
   "cell_type": "markdown",
   "metadata": {},
   "source": [
    "interfaces"
   ]
  },
  {
   "cell_type": "code",
   "execution_count": 12,
   "metadata": {},
   "outputs": [
    {
     "data": {
      "image/png": "[encoded data removed]",
      "text/latex": [
       "$$\\left ( - \\frac{5 \\Delta}{2} + x_{0}, \\quad - \\frac{3 \\Delta}{2} + x_{0}, \\quad - \\frac{\\Delta}{2} + x_{0}, \\quad \\frac{\\Delta}{2} + x_{0}, \\quad \\frac{3 \\Delta}{2} + x_{0}\\right )$$"
      ],
      "text/plain": [
       "⎛  5⋅\\Delta         3⋅\\Delta         \\Delta       \\Delta       3⋅\\Delta     ⎞\n",
       "⎜- ──────── + x₀, - ──────── + x₀, - ────── + x₀, ────── + x₀, ──────── + x₀⎟\n",
       "⎝     2                2               2            2             2         ⎠"
      ]
     },
     "execution_count": 12,
     "metadata": {},
     "output_type": "execute_result"
    }
   ],
   "source": [
    "xm52, xm32, xm12, xp12, xp32"
   ]
  },
  {
   "cell_type": "code",
   "execution_count": 13,
   "metadata": {
    "collapsed": true
   },
   "outputs": [],
   "source": [
    "A = simplify(integrate(f/dx, (x, xm52, xm32)))\n",
    "B = simplify(integrate(f/dx, (x, xm32, xm12)))\n",
    "C = simplify(integrate(f/dx, (x, xm12, xp12)))\n",
    "D = simplify(integrate(f/dx, (x, xp12, xp32)))"
   ]
  },
  {
   "cell_type": "code",
   "execution_count": 14,
   "metadata": {},
   "outputs": [
    {
     "data": {
      "image/png": "[encoded data removed]",
      "text/latex": [
       "$$\\left ( - \\frac{17 a}{2} \\Delta^{3} + \\frac{49 b}{12} \\Delta^{2} - 2 \\Delta c + d, \\quad - \\frac{5 a}{4} \\Delta^{3} + \\frac{13 b}{12} \\Delta^{2} - \\Delta c + d, \\quad \\frac{\\Delta^{2} b}{12} + d, \\quad \\frac{5 a}{4} \\Delta^{3} + \\frac{13 b}{12} \\Delta^{2} + \\Delta c + d\\right )$$"
      ],
      "text/plain": [
       "⎛           3              2                               3              2   \n",
       "⎜  17⋅\\Delta ⋅a   49⋅\\Delta ⋅b                     5⋅\\Delta ⋅a   13⋅\\Delta ⋅b \n",
       "⎜- ──────────── + ──────────── - 2⋅\\Delta⋅c + d, - ─────────── + ──────────── \n",
       "⎝       2              12                               4             12      \n",
       "\n",
       "                      2                3              2                 ⎞\n",
       "                \\Delta ⋅b      5⋅\\Delta ⋅a   13⋅\\Delta ⋅b               ⎟\n",
       "- \\Delta⋅c + d, ───────── + d, ─────────── + ──────────── + \\Delta⋅c + d⎟\n",
       "                    12              4             12                    ⎠"
      ]
     },
     "execution_count": 14,
     "metadata": {},
     "output_type": "execute_result"
    }
   ],
   "source": [
    "A, B, C, D"
   ]
  },
  {
   "cell_type": "code",
   "execution_count": 15,
   "metadata": {},
   "outputs": [
    {
     "data": {
      "image/png": "[encoded data removed]",
      "text/latex": [
       "$$\\left \\{ a : \\frac{1}{6 \\Delta^{3}} \\left(- 3 f_{i} + f_{i+1} + 3 f_{i-1} - f_{i-2}\\right), \\quad b : \\frac{1}{2 \\Delta^{2}} \\left(- 2 f_{i} + f_{i+1} + f_{i-1}\\right), \\quad c : \\frac{1}{24 \\Delta} \\left(15 f_{i} + 7 f_{i+1} - 27 f_{i-1} + 5 f_{i-2}\\right), \\quad d : \\frac{13 f_{i}}{12} - \\frac{f_{i+1}}{24} - \\frac{f_{i-1}}{24}\\right \\}$$"
      ],
      "text/plain": [
       "⎧   -3⋅fᵢ + f_{i+1} + 3⋅f_{i-1} - f_{i-2}     -2⋅fᵢ + f_{i+1} + f_{i-1}     15\n",
       "⎪a: ─────────────────────────────────────, b: ─────────────────────────, c: ──\n",
       "⎨                         3                                   2               \n",
       "⎪                 6⋅\\Delta                            2⋅\\Delta                \n",
       "⎩                                                                             \n",
       "\n",
       "⋅fᵢ + 7⋅f_{i+1} - 27⋅f_{i-1} + 5⋅f_{i-2}     13⋅fᵢ   f_{i+1}   f_{i-1}⎫\n",
       "────────────────────────────────────────, d: ───── - ─────── - ───────⎪\n",
       "              24⋅\\Delta                        12       24        24  ⎬\n",
       "                                                                      ⎪\n",
       "                                                                      ⎭"
      ]
     },
     "execution_count": 15,
     "metadata": {},
     "output_type": "execute_result"
    }
   ],
   "source": [
    "coeffs = solve([A-fm2, B-fm, C-f0, D-fp], [a,b,c,d], check=False)\n",
    "coeffs"
   ]
  },
  {
   "cell_type": "markdown",
   "metadata": {},
   "source": [
    "and the pretty form of the polynomial"
   ]
  },
  {
   "cell_type": "code",
   "execution_count": 16,
   "metadata": {},
   "outputs": [
    {
     "data": {
      "image/png": "[encoded data removed]",
      "text/latex": [
       "$$\\frac{13 f_{i}}{12} - \\frac{f_{i+1}}{24} - \\frac{f_{i-1}}{24} + \\frac{1}{24 \\Delta} \\left(x - x_{0}\\right) \\left(15 f_{i} + 7 f_{i+1} - 27 f_{i-1} + 5 f_{i-2}\\right) + \\frac{\\left(x - x_{0}\\right)^{2}}{2 \\Delta^{2}} \\left(- 2 f_{i} + f_{i+1} + f_{i-1}\\right) + \\frac{\\left(x - x_{0}\\right)^{3}}{6 \\Delta^{3}} \\left(- 3 f_{i} + f_{i+1} + 3 f_{i-1} - f_{i-2}\\right)$$"
      ],
      "text/plain": [
       "                                                                              \n",
       "13⋅fᵢ   f_{i+1}   f_{i-1}   (x - x₀)⋅(15⋅fᵢ + 7⋅f_{i+1} - 27⋅f_{i-1} + 5⋅f_{i-\n",
       "───── - ─────── - ─────── + ──────────────────────────────────────────────────\n",
       "  12       24        24                           24⋅\\Delta                   \n",
       "                                                                              \n",
       "\n",
       "              2                                       3                       \n",
       "2})   (x - x₀) ⋅(-2⋅fᵢ + f_{i+1} + f_{i-1})   (x - x₀) ⋅(-3⋅fᵢ + f_{i+1} + 3⋅f\n",
       "─── + ───────────────────────────────────── + ────────────────────────────────\n",
       "                            2                                             3   \n",
       "                    2⋅\\Delta                                      6⋅\\Delta    \n",
       "\n",
       "                 \n",
       "_{i-1} - f_{i-2})\n",
       "─────────────────\n",
       "                 \n",
       "                 "
      ]
     },
     "execution_count": 16,
     "metadata": {},
     "output_type": "execute_result"
    }
   ],
   "source": [
    "fc = f.subs(a,coeffs[a]).subs(b,coeffs[b]).subs(c,coeffs[c]).subs(d,coeffs[d])\n",
    "fc"
   ]
  },
  {
   "cell_type": "markdown",
   "metadata": {},
   "source": [
    "this interpolant is symmetric about the $i-1/2$ interface---let's see the value there"
   ]
  },
  {
   "cell_type": "code",
   "execution_count": 17,
   "metadata": {},
   "outputs": [
    {
     "data": {
      "image/png": "[encoded data removed]",
      "text/latex": [
       "$$\\frac{7 f_{i}}{12} - \\frac{f_{i+1}}{12} + \\frac{7 f_{i-1}}{12} - \\frac{f_{i-2}}{12}$$"
      ],
      "text/plain": [
       "7⋅fᵢ   f_{i+1}   7⋅f_{i-1}   f_{i-2}\n",
       "──── - ─────── + ───────── - ───────\n",
       " 12       12         12         12  "
      ]
     },
     "execution_count": 17,
     "metadata": {},
     "output_type": "execute_result"
    }
   ],
   "source": [
    "fc.subs(x,x0-Rational(1,2)*dx)"
   ]
  },
  {
   "cell_type": "markdown",
   "metadata": {},
   "source": [
    "Note that this is the interpolating polynomial used to find the interface states in PPM (Colella & Woodward 1984)"
   ]
  },
  {
   "cell_type": "markdown",
   "metadata": {},
   "source": [
    "## Quartic"
   ]
  },
  {
   "cell_type": "markdown",
   "metadata": {},
   "source": [
    "Now we define a quartic polynomial that gives the correct averages over 5 zones, $x_{i-2}$, $x_{i-1}$, $x_i$, $x_{i+1}$, $x_{i+2}$,\n",
    "with zone averages $f_{i-2}$, $f_{i-1}$, $f_i$, $f_{i+1}$, $f_{i+2}$"
   ]
  },
  {
   "cell_type": "code",
   "execution_count": 18,
   "metadata": {},
   "outputs": [
    {
     "data": {
      "image/png": "[encoded data removed]",
      "text/latex": [
       "$$a \\left(x - x_{0}\\right)^{4} + b \\left(x - x_{0}\\right)^{3} + c \\left(x - x_{0}\\right)^{2} + d \\left(x - x_{0}\\right) + e$$"
      ],
      "text/plain": [
       "          4             3             2                 \n",
       "a⋅(x - x₀)  + b⋅(x - x₀)  + c⋅(x - x₀)  + d⋅(x - x₀) + e"
      ]
     },
     "execution_count": 18,
     "metadata": {},
     "output_type": "execute_result"
    }
   ],
   "source": [
    "a, b, c, d, e = symbols(\"a b c d e\")\n",
    "x0 = symbols(\"x0\")\n",
    "f = a*(x-x0)**4 + b*(x-x0)**3 + c*(x-x0)**2 + d*(x-x0) + e\n",
    "f"
   ]
  },
  {
   "cell_type": "markdown",
   "metadata": {},
   "source": [
    "Now we perform the integrals of $f(x)$ over each zone"
   ]
  },
  {
   "cell_type": "code",
   "execution_count": 19,
   "metadata": {
    "collapsed": true
   },
   "outputs": [],
   "source": [
    "fm2, fm, f0, fp, fp2 = symbols(\"f_{i-2} f_{i-1} f_i f_{i+1} f_{i+2}\")\n",
    "#xm32, xm12, xp12, xp32 = symbols(\"x_{i-3/2} x_{i-1/2} x_{i+1/2} x_{i+3/2}\")\n",
    "xm52 = x0 - Rational(5,2)*dx\n",
    "xm32 = x0 - Rational(3,2)*dx\n",
    "xm12 = x0 - Rational(1,2)*dx\n",
    "xp12 = x0 + Rational(1,2)*dx\n",
    "xp32 = x0 + Rational(3,2)*dx\n",
    "xp52 = x0 + Rational(5,2)*dx"
   ]
  },
  {
   "cell_type": "markdown",
   "metadata": {},
   "source": [
    "interfaces"
   ]
  },
  {
   "cell_type": "code",
   "execution_count": 20,
   "metadata": {},
   "outputs": [
    {
     "data": {
      "image/png": "[encoded data removed]",
      "text/latex": [
       "$$\\left ( - \\frac{5 \\Delta}{2} + x_{0}, \\quad - \\frac{3 \\Delta}{2} + x_{0}, \\quad - \\frac{\\Delta}{2} + x_{0}, \\quad \\frac{\\Delta}{2} + x_{0}, \\quad \\frac{3 \\Delta}{2} + x_{0}, \\quad \\frac{5 \\Delta}{2} + x_{0}\\right )$$"
      ],
      "text/plain": [
       "⎛  5⋅\\Delta         3⋅\\Delta         \\Delta       \\Delta       3⋅\\Delta       \n",
       "⎜- ──────── + x₀, - ──────── + x₀, - ────── + x₀, ────── + x₀, ──────── + x₀, \n",
       "⎝     2                2               2            2             2           \n",
       "\n",
       "5⋅\\Delta     ⎞\n",
       "──────── + x₀⎟\n",
       "   2         ⎠"
      ]
     },
     "execution_count": 20,
     "metadata": {},
     "output_type": "execute_result"
    }
   ],
   "source": [
    "xm52, xm32, xm12, xp12, xp32, xp52"
   ]
  },
  {
   "cell_type": "code",
   "execution_count": 21,
   "metadata": {
    "collapsed": true
   },
   "outputs": [],
   "source": [
    "A = simplify(integrate(f/dx, (x, xm52, xm32)))\n",
    "B = simplify(integrate(f/dx, (x, xm32, xm12)))\n",
    "C = simplify(integrate(f/dx, (x, xm12, xp12)))\n",
    "D = simplify(integrate(f/dx, (x, xp12, xp32)))\n",
    "E = simplify(integrate(f/dx, (x, xp32, xp52)))"
   ]
  },
  {
   "cell_type": "markdown",
   "metadata": {},
   "source": [
    "The analytic form of the constraints"
   ]
  },
  {
   "cell_type": "code",
   "execution_count": 22,
   "metadata": {},
   "outputs": [
    {
     "data": {
      "image/png": "[encoded data removed]",
      "text/latex": [
       "$$\\left ( \\frac{1441 a}{80} \\Delta^{4} - \\frac{17 b}{2} \\Delta^{3} + \\frac{49 c}{12} \\Delta^{2} - 2 \\Delta d + e, \\quad \\frac{121 a}{80} \\Delta^{4} - \\frac{5 b}{4} \\Delta^{3} + \\frac{13 c}{12} \\Delta^{2} - \\Delta d + e, \\quad \\frac{\\Delta^{4} a}{80} + \\frac{\\Delta^{2} c}{12} + e, \\quad \\frac{121 a}{80} \\Delta^{4} + \\frac{5 b}{4} \\Delta^{3} + \\frac{13 c}{12} \\Delta^{2} + \\Delta d + e, \\quad \\frac{1441 a}{80} \\Delta^{4} + \\frac{17 b}{2} \\Delta^{3} + \\frac{49 c}{12} \\Delta^{2} + 2 \\Delta d + e\\right )$$"
      ],
      "text/plain": [
       "⎛           4              3              2                               4   \n",
       "⎜1441⋅\\Delta ⋅a   17⋅\\Delta ⋅b   49⋅\\Delta ⋅c                   121⋅\\Delta ⋅a \n",
       "⎜────────────── - ──────────── + ──────────── - 2⋅\\Delta⋅d + e, ───────────── \n",
       "⎝      80              2              12                              80      \n",
       "\n",
       "          3              2                         4           2              \n",
       "  5⋅\\Delta ⋅b   13⋅\\Delta ⋅c                 \\Delta ⋅a   \\Delta ⋅c      121⋅\\D\n",
       "- ─────────── + ──────────── - \\Delta⋅d + e, ───────── + ───────── + e, ──────\n",
       "       4             12                          80          12               \n",
       "\n",
       "    4             3              2                              4             \n",
       "elta ⋅a   5⋅\\Delta ⋅b   13⋅\\Delta ⋅c                 1441⋅\\Delta ⋅a   17⋅\\Delt\n",
       "─────── + ─────────── + ──────────── + \\Delta⋅d + e, ────────────── + ────────\n",
       "80             4             12                            80              2  \n",
       "\n",
       " 3              2                   ⎞\n",
       "a ⋅b   49⋅\\Delta ⋅c                 ⎟\n",
       "──── + ──────────── + 2⋅\\Delta⋅d + e⎟\n",
       "            12                      ⎠"
      ]
     },
     "execution_count": 22,
     "metadata": {},
     "output_type": "execute_result"
    }
   ],
   "source": [
    "A, B, C, D, E"
   ]
  },
  {
   "cell_type": "markdown",
   "metadata": {},
   "source": [
    "Now find the coefficients"
   ]
  },
  {
   "cell_type": "code",
   "execution_count": 23,
   "metadata": {},
   "outputs": [
    {
     "data": {
      "image/png": "[encoded data removed]",
      "text/latex": [
       "$$\\left \\{ a : \\frac{1}{24 \\Delta^{4}} \\left(6 f_{i} - 4 f_{i+1} + f_{i+2} - 4 f_{i-1} + f_{i-2}\\right), \\quad b : \\frac{1}{12 \\Delta^{3}} \\left(- 2 f_{i+1} + f_{i+2} + 2 f_{i-1} - f_{i-2}\\right), \\quad c : \\frac{1}{16 \\Delta^{2}} \\left(- 22 f_{i} + 12 f_{i+1} - f_{i+2} + 12 f_{i-1} - f_{i-2}\\right), \\quad d : \\frac{1}{48 \\Delta} \\left(34 f_{i+1} - 5 f_{i+2} - 34 f_{i-1} + 5 f_{i-2}\\right), \\quad e : \\frac{1067 f_{i}}{960} - \\frac{29 f_{i+1}}{480} + \\frac{3 f_{i+2}}{640} - \\frac{29 f_{i-1}}{480} + \\frac{3 f_{i-2}}{640}\\right \\}$$"
      ],
      "text/plain": [
       "⎧   6⋅fᵢ - 4⋅f_{i+1} + f_{i+2} - 4⋅f_{i-1} + f_{i-2}     -2⋅f_{i+1} + f_{i+2} \n",
       "⎪a: ────────────────────────────────────────────────, b: ─────────────────────\n",
       "⎨                               4                                             \n",
       "⎪                      24⋅\\Delta                                         12⋅\\D\n",
       "⎩                                                                             \n",
       "\n",
       "+ 2⋅f_{i-1} - f_{i-2}     -22⋅fᵢ + 12⋅f_{i+1} - f_{i+2} + 12⋅f_{i-1} - f_{i-2}\n",
       "─────────────────────, c: ────────────────────────────────────────────────────\n",
       "    3                                                   2                     \n",
       "elta                                           16⋅\\Delta                      \n",
       "                                                                              \n",
       "\n",
       "     34⋅f_{i+1} - 5⋅f_{i+2} - 34⋅f_{i-1} + 5⋅f_{i-2}     1067⋅fᵢ   29⋅f_{i+1} \n",
       ", d: ───────────────────────────────────────────────, e: ─────── - ────────── \n",
       "                        48⋅\\Delta                          960        480     \n",
       "                                                                              \n",
       "                                                                              \n",
       "\n",
       "  3⋅f_{i+2}   29⋅f_{i-1}   3⋅f_{i-2}⎫\n",
       "+ ───────── - ────────── + ─────────⎪\n",
       "     640         480          640   ⎬\n",
       "                                    ⎪\n",
       "                                    ⎭"
      ]
     },
     "execution_count": 23,
     "metadata": {},
     "output_type": "execute_result"
    }
   ],
   "source": [
    "coeffs = solve([A-fm2, B-fm, C-f0, D-fp, E-fp2], [a,b,c,d,e], check=False)\n",
    "coeffs"
   ]
  },
  {
   "cell_type": "markdown",
   "metadata": {},
   "source": [
    "and the pretty form of the polynomial"
   ]
  },
  {
   "cell_type": "code",
   "execution_count": 24,
   "metadata": {},
   "outputs": [
    {
     "data": {
      "image/png": "[encoded data removed]",
      "text/latex": [
       "$$\\frac{1067 f_{i}}{960} - \\frac{29 f_{i+1}}{480} + \\frac{3 f_{i+2}}{640} - \\frac{29 f_{i-1}}{480} + \\frac{3 f_{i-2}}{640} + \\frac{1}{48 \\Delta} \\left(x - x_{0}\\right) \\left(34 f_{i+1} - 5 f_{i+2} - 34 f_{i-1} + 5 f_{i-2}\\right) + \\frac{\\left(x - x_{0}\\right)^{2}}{16 \\Delta^{2}} \\left(- 22 f_{i} + 12 f_{i+1} - f_{i+2} + 12 f_{i-1} - f_{i-2}\\right) + \\frac{\\left(x - x_{0}\\right)^{3}}{12 \\Delta^{3}} \\left(- 2 f_{i+1} + f_{i+2} + 2 f_{i-1} - f_{i-2}\\right) + \\frac{\\left(x - x_{0}\\right)^{4}}{24 \\Delta^{4}} \\left(6 f_{i} - 4 f_{i+1} + f_{i+2} - 4 f_{i-1} + f_{i-2}\\right)$$"
      ],
      "text/plain": [
       "                                                                              \n",
       "1067⋅fᵢ   29⋅f_{i+1}   3⋅f_{i+2}   29⋅f_{i-1}   3⋅f_{i-2}   (x - x₀)⋅(34⋅f_{i+\n",
       "─────── - ────────── + ───────── - ────────── + ───────── + ──────────────────\n",
       "  960        480          640         480          640                        \n",
       "                                                                              \n",
       "\n",
       "                                                   2                          \n",
       "1} - 5⋅f_{i+2} - 34⋅f_{i-1} + 5⋅f_{i-2})   (x - x₀) ⋅(-22⋅fᵢ + 12⋅f_{i+1} - f_\n",
       "──────────────────────────────────────── + ───────────────────────────────────\n",
       "      48⋅\\Delta                                                               \n",
       "                                                                      16⋅\\Delt\n",
       "\n",
       "                                        3                                     \n",
       "{i+2} + 12⋅f_{i-1} - f_{i-2})   (x - x₀) ⋅(-2⋅f_{i+1} + f_{i+2} + 2⋅f_{i-1} - \n",
       "───────────────────────────── + ──────────────────────────────────────────────\n",
       " 2                                                             3              \n",
       "a                                                     12⋅\\Delta               \n",
       "\n",
       "                   4                                                   \n",
       "f_{i-2})   (x - x₀) ⋅(6⋅fᵢ - 4⋅f_{i+1} + f_{i+2} - 4⋅f_{i-1} + f_{i-2})\n",
       "──────── + ────────────────────────────────────────────────────────────\n",
       "                                             4                         \n",
       "                                    24⋅\\Delta                          "
      ]
     },
     "execution_count": 24,
     "metadata": {},
     "output_type": "execute_result"
    }
   ],
   "source": [
    "f.subs(a,coeffs[a]).subs(b,coeffs[b]).subs(c,coeffs[c]).subs(d,coeffs[d]).subs(e,coeffs[e])"
   ]
  }
 ],
 "metadata": {
  "kernelspec": {
   "display_name": "Python 3",
   "language": "python",
   "name": "python3"
  },
  "language_info": {
   "codemirror_mode": {
    "name": "ipython",
    "version": 3
   },
   "file_extension": ".py",
   "mimetype": "text/x-python",
   "name": "python",
   "nbconvert_exporter": "python",
   "pygments_lexer": "ipython3",
   "version": "3.6.2"
  }
 },
 "nbformat": 4,
 "nbformat_minor": 1
}
