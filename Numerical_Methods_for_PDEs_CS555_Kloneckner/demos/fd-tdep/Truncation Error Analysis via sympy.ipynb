{
 "cells": [
  {
   "cell_type": "markdown",
   "metadata": {},
   "source": [
    "# Truncation Error Analysis via sympy\n",
    "\n",
    "Copyright (C) 2020 Andreas Kloeckner\n",
    "\n",
    "<details>\n",
    "<summary>MIT License</summary>\n",
    "Permission is hereby granted, free of charge, to any person obtaining a copy\n",
    "of this software and associated documentation files (the \"Software\"), to deal\n",
    "in the Software without restriction, including without limitation the rights\n",
    "to use, copy, modify, merge, publish, distribute, sublicense, and/or sell\n",
    "copies of the Software, and to permit persons to whom the Software is\n",
    "furnished to do so, subject to the following conditions:\n",
    "\n",
    "The above copyright notice and this permission notice shall be included in\n",
    "all copies or substantial portions of the Software.\n",
    "\n",
    "THE SOFTWARE IS PROVIDED \"AS IS\", WITHOUT WARRANTY OF ANY KIND, EXPRESS OR\n",
    "IMPLIED, INCLUDING BUT NOT LIMITED TO THE WARRANTIES OF MERCHANTABILITY,\n",
    "FITNESS FOR A PARTICULAR PURPOSE AND NONINFRINGEMENT. IN NO EVENT SHALL THE\n",
    "AUTHORS OR COPYRIGHT HOLDERS BE LIABLE FOR ANY CLAIM, DAMAGES OR OTHER\n",
    "LIABILITY, WHETHER IN AN ACTION OF CONTRACT, TORT OR OTHERWISE, ARISING FROM,\n",
    "OUT OF OR IN CONNECTION WITH THE SOFTWARE OR THE USE OR OTHER DEALINGS IN\n",
    "THE SOFTWARE.\n",
    "</details>"
   ]
  },
  {
   "cell_type": "code",
   "execution_count": 42,
   "metadata": {},
   "outputs": [],
   "source": [
    "import sympy as s\n",
    "s.init_printing()"
   ]
  },
  {
   "cell_type": "markdown",
   "metadata": {},
   "source": [
    "Establish some variables that we'll need:"
   ]
  },
  {
   "cell_type": "code",
   "execution_count": 43,
   "metadata": {},
   "outputs": [],
   "source": [
    "u = s.Function(\"u\")\n",
    "a, x, t, h_x, h_t = s.symbols(\"a, x, t, h_x, h_t\")\n",
    "xi_1, xi_2, tau = s.symbols(\"xi1, xi2, tau\")"
   ]
  },
  {
   "cell_type": "markdown",
   "metadata": {},
   "source": [
    "`taylor` is a utility function that spits out a taylor expansion for $f(x+h)$, optionally including a remainder term, with all variables under our control."
   ]
  },
  {
   "cell_type": "code",
   "execution_count": 44,
   "metadata": {},
   "outputs": [],
   "source": [
    "def taylor(f, x, h, n, remainder_variable=None):\n",
    "    result = sum(f.diff(x, i)*h**i/s.factorial(i) for i in range(n))\n",
    "    if remainder_variable:\n",
    "        result += f.diff(x, n).subs(x, remainder_variable)*h**n/s.factorial(n)\n",
    "    return result"
   ]
  },
  {
   "cell_type": "markdown",
   "metadata": {},
   "source": [
    "- Try it out by expanding $u(x+h_x,t)$\n",
    "- Vary the order\n",
    "- Expand $u(x,t+h_t)$ instead"
   ]
  },
  {
   "cell_type": "code",
   "execution_count": 48,
   "metadata": {},
   "outputs": [
    {
     "data": {
      "image/png": "[encoded data removed]",
      "text/latex": [
       "$\\displaystyle \\frac{h_{x}^{3} \\frac{\\partial^{3}}{\\partial \\xi^{3}} u{\\left(\\xi,t \\right)}}{6} + \\frac{h_{x}^{2} \\frac{\\partial^{2}}{\\partial x^{2}} u{\\left(x,t \\right)}}{2} + h_{x} \\frac{\\partial}{\\partial x} u{\\left(x,t \\right)} + u{\\left(x,t \\right)}$"
      ],
      "text/plain": [
       "      3                  2                                    \n",
       "  3  ∂               2  ∂                                     \n",
       "hₓ ⋅───(u(ξ, t))   hₓ ⋅───(u(x, t))                           \n",
       "      3                  2                                    \n",
       "    ∂ξ                 ∂x                ∂                    \n",
       "──────────────── + ──────────────── + hₓ⋅──(u(x, t)) + u(x, t)\n",
       "       6                  2              ∂x                   "
      ]
     },
     "execution_count": 48,
     "metadata": {},
     "output_type": "execute_result"
    }
   ],
   "source": [
    "#clear\n",
    "taylor(u(x,t), x, h_x, 3, xi)"
   ]
  },
  {
   "cell_type": "markdown",
   "metadata": {},
   "source": [
    "Assign the PDE we're solving to `pde`:"
   ]
  },
  {
   "cell_type": "code",
   "execution_count": 49,
   "metadata": {},
   "outputs": [
    {
     "data": {
      "image/png": "[encoded data removed]",
      "text/latex": [
       "$\\displaystyle a \\frac{\\partial}{\\partial x} u{\\left(x,t \\right)} + \\frac{\\partial}{\\partial t} u{\\left(x,t \\right)}$"
      ],
      "text/plain": [
       "  ∂             ∂          \n",
       "a⋅──(u(x, t)) + ──(u(x, t))\n",
       "  ∂x            ∂t         "
      ]
     },
     "execution_count": 49,
     "metadata": {},
     "output_type": "execute_result"
    }
   ],
   "source": [
    "#clear\n",
    "pde = u(x, t).diff(t) + a * u(x, t).diff(x)\n",
    "pde"
   ]
  },
  {
   "cell_type": "markdown",
   "metadata": {},
   "source": [
    "Write out the scheme we're analyzing, in this case ETCS:"
   ]
  },
  {
   "cell_type": "code",
   "execution_count": 37,
   "metadata": {},
   "outputs": [
    {
     "data": {
      "image/png": "[encoded data removed]",
      "text/latex": [
       "$\\displaystyle \\frac{a \\left(- u{\\left(- h_{x} + x,t \\right)} + u{\\left(h_{x} + x,t \\right)}\\right)}{2 h_{x}} + \\frac{- u{\\left(x,t \\right)} + u{\\left(x,h_{t} + t \\right)}}{h_{t}}$"
      ],
      "text/plain": [
       "a⋅(-u(-hₓ + x, t) + u(hₓ + x, t))   -u(x, t) + u(x, hₜ + t)\n",
       "───────────────────────────────── + ───────────────────────\n",
       "               2⋅hₓ                            hₜ          "
      ]
     },
     "execution_count": 37,
     "metadata": {},
     "output_type": "execute_result"
    }
   ],
   "source": [
    "etcs = (\n",
    "    (u(x, t+h_t) - u(x, t))/h_t\n",
    "    +\n",
    "    a*(u(x+h_x, t) - u(x-h_x, t))/(2*h_x))\n",
    "etcs"
   ]
  },
  {
   "cell_type": "markdown",
   "metadata": {},
   "source": [
    "Follow this general pattern:\n",
    "```\n",
    "etcs\n",
    ".subs(u(x, t+h_t), taylor(u(x,t), t, h_t, 2, tau))\n",
    "```\n",
    "to arrive at the truncation error.\n",
    "\n",
    "⚠️ Make sure to keep the two $x$ remainder terms separate."
   ]
  },
  {
   "cell_type": "code",
   "execution_count": 50,
   "metadata": {},
   "outputs": [
    {
     "data": {
      "image/png": "[encoded data removed]",
      "text/latex": [
       "$\\displaystyle \\frac{a h_{x}^{2} \\frac{\\partial^{3}}{\\partial \\xi_{1}^{3}} u{\\left(\\xi_{1},t \\right)}}{12} + \\frac{a h_{x}^{2} \\frac{\\partial^{3}}{\\partial \\xi_{2}^{3}} u{\\left(\\xi_{2},t \\right)}}{12} + \\frac{h_{t} \\frac{\\partial^{2}}{\\partial \\tau^{2}} u{\\left(x,\\tau \\right)}}{2}$"
      ],
      "text/plain": [
       "        3                      3                   2         \n",
       "    2  ∂                   2  ∂                   ∂          \n",
       "a⋅hₓ ⋅────(u(ξ₁, t))   a⋅hₓ ⋅────(u(ξ₂, t))   hₜ⋅───(u(x, τ))\n",
       "         3                      3                  2         \n",
       "      ∂ξ₁                    ∂ξ₂                 ∂τ          \n",
       "──────────────────── + ──────────────────── + ───────────────\n",
       "         12                     12                   2       "
      ]
     },
     "execution_count": 50,
     "metadata": {},
     "output_type": "execute_result"
    }
   ],
   "source": [
    "#clear\n",
    "etcs_taylor = (\n",
    "    etcs\n",
    "    .subs(u(x, t+h_t), taylor(u(x,t), t, h_t, 2, tau))\n",
    "    .subs(u(x+h_x, t), taylor(u(x,t), x, h_x, 3, xi_1))\n",
    "    .subs(u(x-h_x, t), taylor(u(x,t), x, -h_x, 3, xi_2))\n",
    ")\n",
    "sp.simplify(etcs_taylor - pde)"
   ]
  },
  {
   "cell_type": "code",
   "execution_count": null,
   "metadata": {},
   "outputs": [],
   "source": []
  }
 ],
 "metadata": {
  "kernelspec": {
   "display_name": "Python 3",
   "language": "python",
   "name": "python3"
  },
  "language_info": {
   "codemirror_mode": {
    "name": "ipython",
    "version": 3
   },
   "file_extension": ".py",
   "mimetype": "text/x-python",
   "name": "python",
   "nbconvert_exporter": "python",
   "pygments_lexer": "ipython3",
   "version": "3.8.3"
  }
 },
 "nbformat": 4,
 "nbformat_minor": 4
}
