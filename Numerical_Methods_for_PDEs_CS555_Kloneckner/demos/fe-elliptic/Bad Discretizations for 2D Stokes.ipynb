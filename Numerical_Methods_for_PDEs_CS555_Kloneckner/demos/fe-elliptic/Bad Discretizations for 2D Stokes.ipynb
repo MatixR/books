{
 "cells": [
  {
   "cell_type": "markdown",
   "metadata": {},
   "source": [
    "# Bad Discretizations for 2D Stokes\n",
    "\n",
    "Copyright (C) 2020 Andreas Kloeckner\n",
    "\n",
    "<details>\n",
    "<summary>MIT License</summary>\n",
    "Permission is hereby granted, free of charge, to any person obtaining a copy\n",
    "of this software and associated documentation files (the \"Software\"), to deal\n",
    "in the Software without restriction, including without limitation the rights\n",
    "to use, copy, modify, merge, publish, distribute, sublicense, and/or sell\n",
    "copies of the Software, and to permit persons to whom the Software is\n",
    "furnished to do so, subject to the following conditions:\n",
    "\n",
    "The above copyright notice and this permission notice shall be included in\n",
    "all copies or substantial portions of the Software.\n",
    "\n",
    "THE SOFTWARE IS PROVIDED \"AS IS\", WITHOUT WARRANTY OF ANY KIND, EXPRESS OR\n",
    "IMPLIED, INCLUDING BUT NOT LIMITED TO THE WARRANTIES OF MERCHANTABILITY,\n",
    "FITNESS FOR A PARTICULAR PURPOSE AND NONINFRINGEMENT. IN NO EVENT SHALL THE\n",
    "AUTHORS OR COPYRIGHT HOLDERS BE LIABLE FOR ANY CLAIM, DAMAGES OR OTHER\n",
    "LIABILITY, WHETHER IN AN ACTION OF CONTRACT, TORT OR OTHERWISE, ARISING FROM,\n",
    "OUT OF OR IN CONNECTION WITH THE SOFTWARE OR THE USE OR OTHER DEALINGS IN\n",
    "THE SOFTWARE.\n",
    "</details>\n",
    "----\n",
    "\n",
    "Follows [Braess](https://doi.org/10.1017/CBO9780511618635), Section III.7.\n",
    "\n",
    "**Of note:** This notebook contains a recipe for how to compute negative Sobolev norms, in one of the folds in part II, below.\n",
    "\n",
    "(Thanks to [Colin Cotter](https://www.imperial.ac.uk/people/colin.cotter) and [Matt Knepley](https://cse.buffalo.edu/~knepley/) for tips!)"
   ]
  },
  {
   "cell_type": "code",
   "execution_count": 23,
   "metadata": {},
   "outputs": [],
   "source": [
    "import numpy as np\n",
    "import numpy.linalg as la\n",
    "import firedrake.mesh as fd_mesh\n",
    "import matplotlib.pyplot as plt\n",
    "\n",
    "from firedrake import *"
   ]
  },
  {
   "cell_type": "code",
   "execution_count": 44,
   "metadata": {},
   "outputs": [
    {
     "data": {
      "text/plain": [
       "<matplotlib.legend.Legend at 0x7fa71527ab90>"
      ]
     },
     "execution_count": 44,
     "metadata": {},
     "output_type": "execute_result"
    },
    {
     "data": {
      "image/png": "[encoded data removed]",
      "text/plain": [
       "<Figure size 432x288 with 1 Axes>"
      ]
     },
     "metadata": {
      "needs_background": "light"
     },
     "output_type": "display_data"
    }
   ],
   "source": [
    "nx = 7\n",
    "mesh = UnitSquareMesh(nx, nx, quadrilateral=True)\n",
    "\n",
    "triplot(mesh)\n",
    "plt.gca().set_aspect(\"equal\")\n",
    "plt.legend()"
   ]
  },
  {
   "cell_type": "markdown",
   "metadata": {},
   "source": [
    "## Part I: The Checkerboard Instability\n",
    "\n",
    "$\\let\\b=\\boldsymbol$Build a $Q^1$-$Q^0$ mixed space:"
   ]
  },
  {
   "cell_type": "code",
   "execution_count": 45,
   "metadata": {},
   "outputs": [],
   "source": [
    "V = VectorFunctionSpace(mesh, \"CG\", 1)\n",
    "W = FunctionSpace(mesh, \"DG\", 0)\n",
    "\n",
    "Z = V * W"
   ]
  },
  {
   "cell_type": "code",
   "execution_count": 46,
   "metadata": {},
   "outputs": [],
   "source": [
    "x = SpatialCoordinate(mesh)\n",
    "x_w = interpolate(x[0], W)\n",
    "y_w = interpolate(x[1], W)"
   ]
  },
  {
   "cell_type": "code",
   "execution_count": 47,
   "metadata": {},
   "outputs": [],
   "source": [
    "x_array = x_w.dat.data.copy()\n",
    "y_array = y_w.dat.data.copy()\n",
    "\n",
    "x_idx = (np.round(x_array * nx * 2) - 1)//2\n",
    "y_idx = (np.round(y_array * nx * 2) - 1)//2\n",
    "                  \n",
    "checkerboard = (x_idx+y_idx) % 2 - 0.5\n",
    "\n",
    "q = Function(W, checkerboard)"
   ]
  },
  {
   "cell_type": "code",
   "execution_count": 48,
   "metadata": {},
   "outputs": [
    {
     "data": {
      "text/plain": [
       "<matplotlib.colorbar.Colorbar at 0x7fa6dce34590>"
      ]
     },
     "execution_count": 48,
     "metadata": {},
     "output_type": "execute_result"
    },
    {
     "data": {
      "image/png": "[encoded data removed]",
      "text/plain": [
       "<Figure size 432x288 with 2 Axes>"
      ]
     },
     "metadata": {
      "needs_background": "light"
     },
     "output_type": "display_data"
    }
   ],
   "source": [
    "ax = plt.gca()\n",
    "l = tricontourf(q, axes=ax)\n",
    "triplot(mesh, axes=ax, interior_kw=dict(alpha=0.05))\n",
    "plt.colorbar(l)"
   ]
  },
  {
   "cell_type": "markdown",
   "metadata": {},
   "source": [
    "Assemble the discrete coefficients representing $\\int (\\nabla \\cdot \\boldsymbol u) q$:"
   ]
  },
  {
   "cell_type": "code",
   "execution_count": 54,
   "metadata": {},
   "outputs": [
    {
     "data": {
      "text/plain": [
       "array([[ 0.,  0.,  0.,  0.,  0.,  0.,  0.,  0.,  0.,  0.,  0.,  0.,  0.,\n",
       "        -0.,  0.,  0.,  0.,  0.,  0.,  0.,  0.,  0.,  0., -0.,  0.,  0.,\n",
       "         0.,  0.,  0., -0.,  0., -0.,  0.,  0.,  0.,  0.,  0.,  0., -0.,\n",
       "         0.,  0.,  0.,  0.,  0.,  0.,  0., -0.,  0.,  0.,  0., -0.,  0.,\n",
       "         0.,  0.,  0., -0.,  0.,  0.,  0.,  0.,  0.,  0.,  0.,  0.],\n",
       "       [ 0.,  0.,  0.,  0.,  0.,  0.,  0.,  0.,  0.,  0.,  0.,  0.,  0.,\n",
       "         0.,  0.,  0.,  0.,  0.,  0.,  0.,  0., -0.,  0.,  0.,  0.,  0.,\n",
       "         0.,  0., -0.,  0.,  0.,  0.,  0.,  0.,  0.,  0.,  0.,  0., -0.,\n",
       "         0.,  0.,  0.,  0.,  0.,  0., -0.,  0.,  0.,  0.,  0.,  0.,  0.,\n",
       "        -0.,  0.,  0.,  0., -0.,  0.,  0.,  0.,  0.,  0.,  0.,  0.]])"
      ]
     },
     "execution_count": 54,
     "metadata": {},
     "output_type": "execute_result"
    }
   ],
   "source": [
    "utest, ptest = TestFunctions(Z)\n",
    "bcs = [DirichletBC(Z.sub(0), Constant((0, 0)), (1, 2, 3, 4))]\n",
    "coeffs = assemble(div(utest)*q*dx, bcs=bcs)\n",
    "coeffs.dat.data[0].round(5).T"
   ]
  },
  {
   "cell_type": "markdown",
   "metadata": {},
   "source": [
    "Is this bad news?\n",
    "\n",
    "$$b (\\b{v}, q) = \\int_{\\Omega} \\nabla \\cdot \\b{v}q.$$\n",
    "\n",
    "Needed:\n",
    "\n",
    "> There exists a constant $c_2 > 0$ so that (*inf-sup* or *LBB condition*):\n",
    "> $$ \\inf_{\\mu \\in M} \\sup_{v \\in X} \\frac{b (v, \\mu)}{||v||_X ||\\mu||_M} \\geqslant c_2 .$$"
   ]
  },
  {
   "cell_type": "markdown",
   "metadata": {},
   "source": [
    "## Part II: Is Removing the Checkerboard Sufficient?\n",
    "\n",
    "Suppose we consider the space that has the checkerboard projected out. Is that better?"
   ]
  },
  {
   "cell_type": "code",
   "execution_count": 8,
   "metadata": {},
   "outputs": [
    {
     "name": "stdout",
     "output_type": "stream",
     "text": [
      "[-3.  2.  3. -1. -2. -3. -0.  1.  2.  3.  1.  0. -1. -2. -3. -2. -1. -0.\n",
      "  1.  2.  3.  3.  2.  1.  0. -1. -2. -3. -3. -2. -1. -0.  1.  2.  3.  2.\n",
      "  1.  0. -1. -3. -2. -1. -0.  3.  2.  1. -3. -2.  3.]\n"
     ]
    },
    {
     "data": {
      "text/plain": [
       "<matplotlib.colorbar.Colorbar at 0x7fcdfb9e8f50>"
      ]
     },
     "execution_count": 8,
     "metadata": {},
     "output_type": "execute_result"
    },
    {
     "data": {
      "image/png": "[encoded data removed]",
      "text/plain": [
       "<Figure size 432x288 with 2 Axes>"
      ]
     },
     "metadata": {
      "needs_background": "light"
     },
     "output_type": "display_data"
    }
   ],
   "source": [
    "ramp_checkers = (x_idx-(nx//2))*(-1)**(x_idx+y_idx)\n",
    "print(ramp_checkers)\n",
    "\n",
    "q_ramp = Function(W, ramp_checkers)\n",
    "\n",
    "ax = plt.gca()\n",
    "l = tricontourf(q_ramp, axes=ax)\n",
    "triplot(mesh, axes=ax, interior_kw=dict(alpha=0.05))\n",
    "plt.colorbar(l)"
   ]
  },
  {
   "cell_type": "markdown",
   "metadata": {},
   "source": [
    "Check that this new function `q_ramp` is orthogonal to the checkerboard `q`:"
   ]
  },
  {
   "cell_type": "code",
   "execution_count": 9,
   "metadata": {},
   "outputs": [
    {
     "data": {
      "text/plain": [
       "-4.5102810375396984e-17"
      ]
     },
     "execution_count": 9,
     "metadata": {},
     "output_type": "execute_result"
    }
   ],
   "source": [
    "#clear\n",
    "assemble(q_ramp*q*dx)"
   ]
  },
  {
   "cell_type": "markdown",
   "metadata": {},
   "source": [
    "We would like to computationally check whether the inf-sup condition is obeyed.\n",
    "\n",
    "> There exists a constant $c_2 > 0$ so that (*inf-sup* or *LBB condition*):\n",
    "> $$ \\inf_{\\mu \\in M} \\sup_{v \\in X} \\frac{b (v, \\mu)}{\\|v\\|_X \\|\\mu\\|_M} \\geqslant c_2 .$$\n",
    "\n",
    "What are the $X$ and $M$ norms?\n",
    "<details style=\"background-color: #ddd\">\n",
    "<summary>Show answer</summary>\n",
    "$\\|\\cdot\\|_X=\\|\\cdot\\|_{H^1}$ and $\\|\\cdot\\|_M=\\|\\cdot\\|_L^2$.\n",
    "</details>"
   ]
  },
  {
   "cell_type": "markdown",
   "metadata": {},
   "source": [
    "How do we check the inf-sup condition?\n",
    "<details style=\"background-color: #ddd\">\n",
    "<summary>Show answer</summary>\n",
    "We're choosing a specific $\\mu$ (=`q`) here, so we need to check that a (mesh-independent\n",
    "$$ \\sup_{v \\in X} \\frac{b (v, \\mu)}{\\|v\\|_X }\n",
    "=\\sup_{v \\in H^1} \\frac{b (v, \\mu)}{\\|v\\|_{H^1} } \\ge c_2  \\|\\mu\\|_{L^2}\n",
    "$$\n",
    "So we should really be computing the $H^{-1}$ norm of the functional $b(\\cdot, \\mu)$.\n",
    "</details>"
   ]
  },
  {
   "cell_type": "markdown",
   "metadata": {},
   "source": [
    "How do we evaluate that quantity?\n",
    "<details style=\"background-color: #ddd\">\n",
    "<summary>Show answer</summary>\n",
    "Find the $(H^1)^2$ Riesz representer $\\b u$ of $f(\\b v):=b(\\b v, \\mu)$, i.e. $\\b u$ so that\n",
    "$$(\\b u,\\b v)_{(H^1)^2} = b(\\b v, \\mu) \\qquad(\\b v\\in (H^1_0)^2).$$\n",
    "Then, evaluate $\\|u\\|_{(H^1)^2}$.\n",
    "\n",
    "This works because\n",
    "$$\n",
    "\\|f\\|_{H^{-1}}\n",
    "=\\sup_{v\\in H^1}\\frac{|f(v)|}{\\|v\\|_{H^1}}\n",
    "=\\sup_{v\\in H^1}\\frac{|(u,v)|_{H^1}}{\\|v\\|_{H^1}}\n",
    "=\\|u\\|_{H^1}.\n",
    "$$\n",
    "Equivalently, we may evaluate $\\sqrt{f(u)}=\\sqrt{(u,u)_{H^1}}  =\\|u\\|_{H^1}$.\n",
    "</details>"
   ]
  },
  {
   "cell_type": "markdown",
   "metadata": {},
   "source": [
    "Write a function with arguments <tt>(V, q)</tt> to evaluate that quantity."
   ]
  },
  {
   "cell_type": "code",
   "execution_count": 13,
   "metadata": {},
   "outputs": [],
   "source": [
    "#clear\n",
    "def hminus1_norm(V, q):\n",
    "    # Evaluates the H^{-1} norm of b, where V is\n",
    "    # the function space for the first argument.\n",
    "    \n",
    "    u = TrialFunction(V)\n",
    "    v = TestFunction(V)\n",
    "    \n",
    "    riesz_rep = Function(V)\n",
    "    solve((inner(grad(u), grad(v)) + inner(u,v))*dx == div(v)*q*dx, riesz_rep)\n",
    "    \n",
    "    return norm(riesz_rep, \"H1\")"
   ]
  },
  {
   "cell_type": "code",
   "execution_count": 20,
   "metadata": {},
   "outputs": [
    {
     "name": "stdout",
     "output_type": "stream",
     "text": [
      "Now computing nx=9...\n",
      "Now computing nx=19...\n",
      "Now computing nx=39...\n",
      "Now computing nx=79...\n",
      "Now computing nx=159...\n",
      "Now computing nx=319...\n"
     ]
    }
   ],
   "source": [
    "h_values = []\n",
    "h1_norms = []\n",
    "\n",
    "for e in range(6):\n",
    "    nx = 10 * 2**e - 1\n",
    "    print(f\"Now computing nx={nx}...\")\n",
    "    mesh = UnitSquareMesh(nx, nx, quadrilateral=True)\n",
    "    \n",
    "    V = VectorFunctionSpace(mesh, \"CG\", 1)\n",
    "    W = FunctionSpace(mesh, \"DG\", 0)\n",
    "\n",
    "    Z = V * W\n",
    "    \n",
    "    x = SpatialCoordinate(mesh)\n",
    "    x_w = interpolate(x[0], W)\n",
    "    y_w = interpolate(x[1], W)\n",
    "    \n",
    "    x_array = x_w.dat.data.copy()\n",
    "    y_array = y_w.dat.data.copy()\n",
    "\n",
    "    x_idx = (np.round(x_array * nx * 2) - 1)//2\n",
    "    y_idx = (np.round(y_array * nx * 2) - 1)//2\n",
    "    \n",
    "    odd_checkers = (x_idx-(nx//2))*(-1)**(x_idx+y_idx)\n",
    "    q_ramp = Function(W, odd_checkers)\n",
    "    \n",
    "    h_values.append(1/nx)\n",
    "    h1_norms.append(hminus1_norm(V, q_ramp)/norm(q_ramp, \"L2\"))"
   ]
  },
  {
   "cell_type": "code",
   "execution_count": 21,
   "metadata": {},
   "outputs": [
    {
     "data": {
      "image/png": "[encoded data removed]",
      "text/plain": [
       "<Figure size 400x300 with 1 Axes>"
      ]
     },
     "metadata": {
      "needs_background": "light"
     },
     "output_type": "display_data"
    }
   ],
   "source": [
    "plt.figure(figsize=(4,3), dpi=100)\n",
    "plt.loglog(h_values, h1_norms, \"o-\")\n",
    "plt.xlabel(\"$h$\")\n",
    "z = plt.ylabel(r\"$\\sup_{v\\in X}\\frac{b(v,q)}{\\|q\\|}$\")"
   ]
  },
  {
   "cell_type": "markdown",
   "metadata": {},
   "source": [
    "What does this mean?\n",
    "\n",
    "<details style=\"background-color: #ddd\">\n",
    "<summary>Show answer</summary>\n",
    "Since, apparently,\n",
    "$$\\sup_{v \\in X} \\frac{b (v, \\mu)}{\\|v\\|_X \\|\\mu\\|_M} =O(h)$$\n",
    "as $h\\to 0$, there cannot be a mesh-independent lower bound $c_2$ for this quantity. A discrete inf-sup condition does not hold for this discretization.\n",
    "</details>"
   ]
  },
  {
   "cell_type": "markdown",
   "metadata": {},
   "source": [
    "Matt Knepley added this follow-up: (on the Firedrake Slack channel):\n",
    "\n",
    "> You can also see the instability by looking at the condition number of the Schur complement of the full system, which grows with N.\n",
    ">\n",
    ">  There's also the ASCOT approach (Automated testing of saddle point stability conditions in the [FEniCS book](https://fenicsproject.org/book/)). [Florian Wechsung] forward-ported that code to Firedrake. Additionally in the case of the Stokes problem, see this nice paper: https://www.waves.kit.edu/downloads/CRC1173_Preprint_2017-15.pdf\n",
    "\n",
    "Note that none of these approaches require manually identifying the problematic functions."
   ]
  },
  {
   "cell_type": "code",
   "execution_count": null,
   "metadata": {},
   "outputs": [],
   "source": []
  }
 ],
 "metadata": {
  "kernelspec": {
   "display_name": "Python 3",
   "language": "python",
   "name": "python3"
  },
  "language_info": {
   "codemirror_mode": {
    "name": "ipython",
    "version": 3
   },
   "file_extension": ".py",
   "mimetype": "text/x-python",
   "name": "python",
   "nbconvert_exporter": "python",
   "pygments_lexer": "ipython3",
   "version": "3.8.3"
  }
 },
 "nbformat": 4,
 "nbformat_minor": 4
}
