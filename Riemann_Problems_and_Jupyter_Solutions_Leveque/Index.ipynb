{
 "cells": [
  {
   "cell_type": "markdown",
   "metadata": {},
   "source": [
    "# Riemann Problems and Jupyter Solutions\n",
    "\n",
    "### by David I. Ketcheson, Randall J. LeVeque, and Mauricio J. del Razo\n",
    "\n",
    "The Github repository containing these notebooks is https://github.com/clawpack/riemann_book.\n",
    "\n",
    "You can view html versions of these notebooks at http://www.clawpack.org/riemann_book/html/Index.html.\n",
    "\n",
    "Parts I and II of these notebooks will also be published by SIAM as a paperback book.\n",
    "\n",
    "Please read about the [License](https://github.com/clawpack/riemann_book#license) if you wish to use or modify this material."
   ]
  },
  {
   "cell_type": "markdown",
   "metadata": {},
   "source": [
    "## Contents\n",
    "\n",
    " - [Preface](Preface.ipynb) -- Describes the aims and goals, and different ways to use the notebooks.\n",
    " \n",
    "## Part I: The Riemann problem and its solution\n",
    "\n",
    "  1. [Introduction](Introduction.ipynb) -- Introduces basic ideas with some sample solutions.\n",
    "  1. [Advection](Advection.ipynb) -- The scalar advection equation is the simplest hyperbolic problem.\n",
    "  2. [Acoustics](Acoustics.ipynb) -- This linear system of two equations illustrates how eigenstructure is used.\n",
    "  3. [Burgers' equation](Burgers.ipynb) -- The classic nonlinear scalar problem with a convex flux.\n",
    "  4. [Traffic flow](Traffic_flow.ipynb) -- A nonlinear scalar problem with a nice physical interpretation.\n",
    "  5. [Nonconvex_scalar](Nonconvex_scalar.ipynb) -- More interesting Riemann solutions arise when the flux is not convex.\n",
    "  6. [Shallow water waves](Shallow_water.ipynb) -- A classic nonlinear system of two equations.\n",
    "  7. [Shallow water with a tracer](Shallow_tracer.ipynb) -- Adding a passively advected tracer and a linearly degenerate field.\n",
    "  8. [Euler equations of compressible gas dynamics](Euler.ipynb) -- The classic equations for an ideal gas.\n",
    "  \n",
    "## Part II: Approximate solvers\n",
    "\n",
    "  1. [Approximate_solvers](Approximate_solvers.ipynb) -- Introduction to two basic types of approximations.\n",
    "  1. [Burgers approximate](Burgers_approximate.ipynb) -- Approximate solvers for a scalar problem.\n",
    "  2. [Shallow water_approximate](Shallow_water_approximate.ipynb) -- Roe solvers, the entropy fix, positivity, HLL, and HLLE.\n",
    "  3. [Euler approximate](Euler_approximate.ipynb) -- Extension of these solvers to gas dynamics.\n",
    "  4. [Finite volume discretizations with approximate Riemann solvers](FV_compare.ipynb) -- Comparing how different approximate solvers perform when used with PyClaw."
   ]
  },
  {
   "cell_type": "markdown",
   "metadata": {},
   "source": [
    "Additional notebooks are under development and listed in [Index2.ipynb](Index2.ipynb).  Updates may appear in the [Github repository](https://github.com/clawpack/riemann_book) in the future."
   ]
  }
 ],
 "metadata": {
  "kernelspec": {
   "display_name": "Python 3",
   "language": "python",
   "name": "python3"
  },
  "language_info": {
   "codemirror_mode": {
    "name": "ipython",
    "version": 3
   },
   "file_extension": ".py",
   "mimetype": "text/x-python",
   "name": "python",
   "nbconvert_exporter": "python",
   "pygments_lexer": "ipython3",
   "version": "3.6.9"
  },
  "toc": {
   "base_numbering": 1,
   "nav_menu": {},
   "number_sections": true,
   "sideBar": true,
   "skip_h1_title": false,
   "title_cell": "Table of Contents",
   "title_sidebar": "Contents",
   "toc_cell": false,
   "toc_position": {},
   "toc_section_display": "block",
   "toc_window_display": false
  }
 },
 "nbformat": 4,
 "nbformat_minor": 4
}
